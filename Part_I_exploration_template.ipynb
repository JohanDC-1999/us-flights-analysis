{
 "cells": [
  {
   "cell_type": "markdown",
   "metadata": {},
   "source": [
    "# Part I - (Airline On-Time Performance Data)\n",
    "## by (Johan Coetzer)\n",
    "\n",
    "## Introduction\n",
    "\n",
    "### **The dataset**\n",
    "\n",
    "We will be using datasets which contain data about flights in the United States, including carriers, arrival and departure delays, and reasons for delays. There are multiple year's worth of data, ranging from 1987 up to 2008.\n",
    "This dataset also contains many different variables/columns, we will need to explore these in order to make a decision on which ones we wish to keep. We will only work with year 2007 for this analysis since it has the most records between all the years.\n",
    "\n",
    "### **About the features**\n",
    "\n",
    "Read more about all of the various features asscoiated with flights here: https://www.transtats.bts.gov/Glossary.asp\n",
    "\n",
    "> **Year**\n",
    "- The year that the flight occured\n",
    "- There is data for the years 1987-2008, so the year will be in this range\n",
    "\n",
    "> **Month**\n",
    "- The month in which the flight occured\n",
    "- A value between 1 and 12, 1 being January and 12 indicating December\n",
    "\n",
    "> **DayofMonth**\n",
    "- The day of the month in which the flight occured\n",
    "- A value between 1 and 31, 1 being the 1st day of the month and 31 (or 30) being the final day of the month.\n",
    "\n",
    "> **DayOfWeek**\n",
    "- The day of the week in which the flight occured\n",
    "- A value between 1 and 7 where 1 indicating the flight took place on a Monday, and 7 indicating it took place on a Sunday.\n",
    "\n",
    "> **DepTime**\n",
    "- The actual departure time of the flight\n",
    "- Has the format of hhmm (example: 1430 means 14:30) (local, hhmm)\n",
    "\n",
    "> **CRSDepTime**\n",
    "- Scheduled departure time.\n",
    "- Format of hhmm\n",
    "\n",
    "> **ArrTime**\n",
    "- Actual arrival time\n",
    "- Format of hhmm\n",
    "\n",
    "> **CRSArrTime**\n",
    "- Scheduled arrival time.\n",
    "- Format of hhmm\n",
    "\n",
    "> **UniqueCarrier**\n",
    "- Unique carrier code\n",
    "- \"A numeric suffix is used to distinguish duplicate codes, for example, PA, PA (1), PA (2).\" \n",
    "- \"Use this field to perform analysis of data reported by one and only one carrier.\"\n",
    "\n",
    "> **FlightNum**\n",
    "- A one to four character alpha-numeric code for a particular flight. \n",
    "\n",
    "> **TailNum**\n",
    "- Plane tail number\n",
    "\n",
    "> **ActualElapsedTime**\n",
    "- The time computed from gate departure time to gate arrival time.\n",
    "- This is indicated in minutes\n",
    "\n",
    "> **CRSElapsedTime**\n",
    "- The amount of time the flights was scheduled to take.\n",
    "- In minutes\n",
    "\n",
    "> **AirTime**\n",
    "- The airborne minutes of the aircraft, computed from the moment an aircraft leaves the ground until it touches the ground at the end of a flight stage.\n",
    "\n",
    "> **ArrDelay**\n",
    "- Arrival delay equals the difference of the actual arrival time minus the scheduled arrival time. \n",
    "- Time in minutes.\n",
    "- **A flight is considered on-time when it arrives less than 15 minutes after its published arrival time.** \n",
    "\n",
    "> **DepDelay**\n",
    "- Departure delay is the difference between the scheduled departure time and the actual departure time from the origin airport gate.\n",
    "\n",
    "> **Origin**\n",
    "- Origin IATA airport code -> Starting point of a trip. \n",
    "\n",
    "> **Dest**\n",
    "- Destination IATA airport code\n",
    "\n",
    "> **Distance**\n",
    "- The distance between origin and destination\n",
    "- Measured in miles\n",
    "\n",
    "> **TaxiIn**\n",
    "- Taxi-In Time - The time elapsed between wheels down and arrival at the destination airport gate. \n",
    "- Measured in minutes.\n",
    "\n",
    "> **TaxiOut**\n",
    "- Taxi-Out Time -\tThe time elapsed between departure from the origin airport gate and wheels off.\n",
    "- Measured in minutes.\n",
    "\n",
    "> **Cancelled**\n",
    "- Whether the flight was cancelled ore not.\n",
    "- Value of 0 or 1 indicating false and true respectively.\n",
    "\n",
    "> **CancellationCode**\n",
    "- Reason for cancellation (A = carrier, B = weather, C = NAS, D = security)\n",
    "\n",
    "> **Diverted**\n",
    "- A flight that is required to land at a destination other than the original scheduled destination for reasons beyond the control of the pilot/company.\n",
    "- 1 = Yes, 0 = No\n",
    "\n",
    "> **CarrierDelay**\n",
    "- Carrier delay is within the control of the air carrier. Examples of occurrences that may determine carrier delay are: aircraft cleaning, aircraft damage, awaiting the arrival of connecting passengers or crew, baggage, bird strike, cargo loading, catering, computer, outage-carrier equipment, crew legality (pilot or attendant rest), damage by hazardous goods, engineering inspection, fueling, handling disabled passengers, late crew, lavatory servicing, maintenance, oversales, potable water servicing, removal of unruly passenger, slow boarding or seating, stowing carry-on baggage, weight and balance delays.\n",
    "- In minutes\n",
    "\n",
    "> **WeatherDelay**\n",
    "- Weather delay is caused by extreme or hazardous weather conditions that are forecasted or manifest themselves on point of departure, enroute, or on point of arrival.\n",
    "- In minutes\n",
    "\n",
    "> **NASDelay**\n",
    "- Delay that is within the control of the National Airspace System (NAS) may include: non-extreme weather conditions, airport operations, heavy traffic volume, air traffic control, etc. [https://aspm.faa.gov/aspmhelp/index/Types_of_Delay.html]\n",
    "- In minutes\n",
    "\n",
    "> **SecurityDelay**\n",
    "- Security delay is caused by evacuation of a terminal or concourse, re-boarding of aircraft because of security breach, inoperative screening equipment and/or long lines in excess of 29 minutes at screening areas.\n",
    "- In minutes\n",
    "\n",
    "> **LateAircraftDelay**\n",
    "- This specific aircraft delay is a result of the late arrival of the previous flight that utilized the same plane that will be departing. This causes the current flight to take off late and creates a domino effect, causing passengers at other airports to board the aircraft much later as well. [https://www.sheffield.com/2019/different-flight-delays.html]\n",
    "- In minutes\n",
    "\n",
    "## Preliminary Wrangling\n"
   ]
  },
  {
   "cell_type": "code",
   "execution_count": 1,
   "metadata": {},
   "outputs": [],
   "source": [
    "# import all packages and set plots to be embedded inline\n",
    "import numpy as np\n",
    "import pandas as pd\n",
    "import matplotlib.pyplot as plt\n",
    "import seaborn as sb\n",
    "import requests\n",
    "from urllib.request import Request, urlopen  # Python 3\n",
    "%matplotlib inline"
   ]
  },
  {
   "cell_type": "markdown",
   "metadata": {},
   "source": [
    "### Gathering data"
   ]
  },
  {
   "cell_type": "markdown",
   "metadata": {},
   "source": [
    "In order to load the datasets, we can import from the url. Some of the target urls are for compressed files with 'bz2' filetype, so we will need to first need to decompress these files before we can make use of them. We will then fetch our data and load them into pandas dataframes in order to make it easier to work with\n",
    "\n",
    "We can create a list of url's in order to store the target links, which we will iterate through in order to get the data."
   ]
  },
  {
   "cell_type": "code",
   "execution_count": 2,
   "metadata": {},
   "outputs": [],
   "source": [
    "flight_urls = [\n",
    "    'https://dataverse.harvard.edu/api/access/datafile/:persistentId?persistentId=doi:10.7910/DVN/HG7NV7/CCAZGT', #2004\n",
    "    'https://dataverse.harvard.edu/api/access/datafile/:persistentId?persistentId=doi:10.7910/DVN/HG7NV7/JTFT25', #2005\n",
    "    'https://dataverse.harvard.edu/api/access/datafile/:persistentId?persistentId=doi:10.7910/DVN/HG7NV7/EPIFFT', #2006\n",
    "    'https://dataverse.harvard.edu/api/access/datafile/:persistentId?persistentId=doi:10.7910/DVN/HG7NV7/2BHLWK', #2007\n",
    "    'https://dataverse.harvard.edu/api/access/datafile/:persistentId?persistentId=doi:10.7910/DVN/HG7NV7/EIR0RA' #2008\n",
    "]"
   ]
  },
  {
   "cell_type": "markdown",
   "metadata": {},
   "source": [
    "Below are our import functions"
   ]
  },
  {
   "cell_type": "code",
   "execution_count": 3,
   "metadata": {},
   "outputs": [],
   "source": [
    "# Function to retrieve and decompress the data into the dataframe\n",
    "def getData_bz2(url):\n",
    "    # Create a request\n",
    "    req = Request(url)\n",
    "    req.add_header('User-Agent', 'Mozilla/5.0 (X11; Ubuntu; Linux x86_64; rv:77.0) Gecko/20100101 Firefox/77.0')\n",
    "    content = urlopen(req)\n",
    "    # read the data into a dataframe using the compression as 'bz2'\n",
    "    df = pd.read_csv(content, compression='bz2')\n",
    "    return df\n",
    "\n",
    "# This function is the same\n",
    "def getData(url):\n",
    "    req = Request(url)\n",
    "    req.add_header('User-Agent', 'Mozilla/5.0 (X11; Ubuntu; Linux x86_64; rv:77.0) Gecko/20100101 Firefox/77.0')\n",
    "    content = urlopen(req)\n",
    "    df = pd.read_csv(content)\n",
    "    return df\n"
   ]
  },
  {
   "cell_type": "markdown",
   "metadata": {},
   "source": [
    "Now it is time to get our data using these functions. There are datasets for a lot of different years where each dataset contains a few million records. We will be working with the data frame year 2007, since we will not be interested in the differences between years yet, and will only be working with 1 year. 2007 was chosen instead of 2008 since there are more records in the 2007 dataset which might help in our analysis."
   ]
  },
  {
   "cell_type": "markdown",
   "metadata": {},
   "source": [
    "#### Flights"
   ]
  },
  {
   "cell_type": "code",
   "execution_count": 4,
   "metadata": {},
   "outputs": [],
   "source": [
    "# Access the 2nd last url in the list wich will be the url for the year 2007\n",
    "flights_df = getData_bz2(flight_urls[-2])"
   ]
  },
  {
   "cell_type": "code",
   "execution_count": 5,
   "metadata": {
    "scrolled": true
   },
   "outputs": [],
   "source": [
    "#flights_df.head(15).iloc[:,[14,15, 24, 25, 26, 27, 28]]"
   ]
  },
  {
   "cell_type": "code",
   "execution_count": 6,
   "metadata": {},
   "outputs": [
    {
     "data": {
      "text/plain": [
       "' \\nUse this function to get all of the data from all of the urls in the list\\nNote this takes very long since there are so many records\\n\\n'"
      ]
     },
     "execution_count": 6,
     "metadata": {},
     "output_type": "execute_result"
    }
   ],
   "source": [
    "\"\"\" \n",
    "Use this function to get all of the data from all of the urls in the list\n",
    "Note this takes very long since there are so many records\n",
    "\n",
    "\"\"\"\n",
    "# startYear = 2004\n",
    "# dataframes= {}\n",
    "# for url in flight_urls:\n",
    "#     df = getData_bz2(url)\n",
    "#     dataframes[startYear] = df\n",
    "#     startYear = startYear + 1"
   ]
  },
  {
   "cell_type": "markdown",
   "metadata": {},
   "source": [
    "We can store the data in an excel sheet so we don't need to worry about importing the dataset each time, since it takes long."
   ]
  },
  {
   "cell_type": "code",
   "execution_count": 7,
   "metadata": {},
   "outputs": [],
   "source": [
    "flights_df.to_csv('flights.csv', index=False)"
   ]
  },
  {
   "cell_type": "code",
   "execution_count": 8,
   "metadata": {},
   "outputs": [],
   "source": [
    "# Use the downloaded dataset instead\n",
    "flights_df = pd.read_csv('flights.csv')"
   ]
  },
  {
   "cell_type": "markdown",
   "metadata": {},
   "source": [
    "Since we are not yet sure which data we will need, we will import everything that is available to use\n",
    "\n",
    "#### Airports"
   ]
  },
  {
   "cell_type": "code",
   "execution_count": 9,
   "metadata": {
    "scrolled": false
   },
   "outputs": [
    {
     "data": {
      "text/html": [
       "<div>\n",
       "<style scoped>\n",
       "    .dataframe tbody tr th:only-of-type {\n",
       "        vertical-align: middle;\n",
       "    }\n",
       "\n",
       "    .dataframe tbody tr th {\n",
       "        vertical-align: top;\n",
       "    }\n",
       "\n",
       "    .dataframe thead th {\n",
       "        text-align: right;\n",
       "    }\n",
       "</style>\n",
       "<table border=\"1\" class=\"dataframe\">\n",
       "  <thead>\n",
       "    <tr style=\"text-align: right;\">\n",
       "      <th></th>\n",
       "      <th>iata</th>\n",
       "      <th>airport</th>\n",
       "      <th>city</th>\n",
       "      <th>state</th>\n",
       "      <th>country</th>\n",
       "      <th>lat</th>\n",
       "      <th>long</th>\n",
       "    </tr>\n",
       "  </thead>\n",
       "  <tbody>\n",
       "    <tr>\n",
       "      <th>168</th>\n",
       "      <td>1L0</td>\n",
       "      <td>St. John the Baptist Parish</td>\n",
       "      <td>Reserve</td>\n",
       "      <td>LA</td>\n",
       "      <td>USA</td>\n",
       "      <td>30.087208</td>\n",
       "      <td>-90.582665</td>\n",
       "    </tr>\n",
       "    <tr>\n",
       "      <th>2710</th>\n",
       "      <td>PXE</td>\n",
       "      <td>Perry-Houston Couty</td>\n",
       "      <td>Perry</td>\n",
       "      <td>GA</td>\n",
       "      <td>USA</td>\n",
       "      <td>32.510583</td>\n",
       "      <td>-83.767333</td>\n",
       "    </tr>\n",
       "    <tr>\n",
       "      <th>2627</th>\n",
       "      <td>PIZ</td>\n",
       "      <td>Point Lay Dew Station</td>\n",
       "      <td>Point Lay</td>\n",
       "      <td>AK</td>\n",
       "      <td>USA</td>\n",
       "      <td>69.732875</td>\n",
       "      <td>-163.005342</td>\n",
       "    </tr>\n",
       "    <tr>\n",
       "      <th>2473</th>\n",
       "      <td>ODX</td>\n",
       "      <td>Evelyn Sharp</td>\n",
       "      <td>Ord</td>\n",
       "      <td>NE</td>\n",
       "      <td>USA</td>\n",
       "      <td>41.624250</td>\n",
       "      <td>-98.952361</td>\n",
       "    </tr>\n",
       "    <tr>\n",
       "      <th>3294</th>\n",
       "      <td>WJF</td>\n",
       "      <td>General Wm. J. Fox Airfield</td>\n",
       "      <td>Lancaster</td>\n",
       "      <td>CA</td>\n",
       "      <td>USA</td>\n",
       "      <td>34.740959</td>\n",
       "      <td>-118.218949</td>\n",
       "    </tr>\n",
       "  </tbody>\n",
       "</table>\n",
       "</div>"
      ],
      "text/plain": [
       "     iata                      airport       city state country        lat  \\\n",
       "168   1L0  St. John the Baptist Parish    Reserve    LA     USA  30.087208   \n",
       "2710  PXE          Perry-Houston Couty      Perry    GA     USA  32.510583   \n",
       "2627  PIZ        Point Lay Dew Station  Point Lay    AK     USA  69.732875   \n",
       "2473  ODX                Evelyn Sharp         Ord    NE     USA  41.624250   \n",
       "3294  WJF  General Wm. J. Fox Airfield  Lancaster    CA     USA  34.740959   \n",
       "\n",
       "            long  \n",
       "168   -90.582665  \n",
       "2710  -83.767333  \n",
       "2627 -163.005342  \n",
       "2473  -98.952361  \n",
       "3294 -118.218949  "
      ]
     },
     "execution_count": 9,
     "metadata": {},
     "output_type": "execute_result"
    }
   ],
   "source": [
    "airport_url = 'https://dataverse.harvard.edu/api/access/datafile/:persistentId?persistentId=doi:10.7910/DVN/HG7NV7/XTPZZY'\n",
    "airport_df = getData(airport_url)\n",
    "airport_df.sample(5)"
   ]
  },
  {
   "cell_type": "markdown",
   "metadata": {},
   "source": [
    "#### Carriers"
   ]
  },
  {
   "cell_type": "code",
   "execution_count": 10,
   "metadata": {
    "scrolled": false
   },
   "outputs": [
    {
     "data": {
      "text/html": [
       "<div>\n",
       "<style scoped>\n",
       "    .dataframe tbody tr th:only-of-type {\n",
       "        vertical-align: middle;\n",
       "    }\n",
       "\n",
       "    .dataframe tbody tr th {\n",
       "        vertical-align: top;\n",
       "    }\n",
       "\n",
       "    .dataframe thead th {\n",
       "        text-align: right;\n",
       "    }\n",
       "</style>\n",
       "<table border=\"1\" class=\"dataframe\">\n",
       "  <thead>\n",
       "    <tr style=\"text-align: right;\">\n",
       "      <th></th>\n",
       "      <th>Code</th>\n",
       "      <th>Description</th>\n",
       "    </tr>\n",
       "  </thead>\n",
       "  <tbody>\n",
       "    <tr>\n",
       "      <th>1412</th>\n",
       "      <td>XAG</td>\n",
       "      <td>Ball Brothers Inc.</td>\n",
       "    </tr>\n",
       "    <tr>\n",
       "      <th>1108</th>\n",
       "      <td>RZZ</td>\n",
       "      <td>Aeromech Inc.</td>\n",
       "    </tr>\n",
       "    <tr>\n",
       "      <th>607</th>\n",
       "      <td>GU</td>\n",
       "      <td>Aviateca</td>\n",
       "    </tr>\n",
       "    <tr>\n",
       "      <th>1129</th>\n",
       "      <td>SCT</td>\n",
       "      <td>Skyline Airlines</td>\n",
       "    </tr>\n",
       "    <tr>\n",
       "      <th>457</th>\n",
       "      <td>E7</td>\n",
       "      <td>Estafeta Carga Aereas</td>\n",
       "    </tr>\n",
       "  </tbody>\n",
       "</table>\n",
       "</div>"
      ],
      "text/plain": [
       "     Code            Description\n",
       "1412  XAG     Ball Brothers Inc.\n",
       "1108  RZZ          Aeromech Inc.\n",
       "607    GU               Aviateca\n",
       "1129  SCT       Skyline Airlines\n",
       "457    E7  Estafeta Carga Aereas"
      ]
     },
     "execution_count": 10,
     "metadata": {},
     "output_type": "execute_result"
    }
   ],
   "source": [
    "carriers_df = getData('https://dataverse.harvard.edu/api/access/datafile/:persistentId?persistentId=doi:10.7910/DVN/HG7NV7/3NOQ6Q')\n",
    "carriers_df.sample(5)"
   ]
  },
  {
   "cell_type": "markdown",
   "metadata": {},
   "source": [
    "#### Planes"
   ]
  },
  {
   "cell_type": "code",
   "execution_count": 11,
   "metadata": {},
   "outputs": [
    {
     "data": {
      "text/html": [
       "<div>\n",
       "<style scoped>\n",
       "    .dataframe tbody tr th:only-of-type {\n",
       "        vertical-align: middle;\n",
       "    }\n",
       "\n",
       "    .dataframe tbody tr th {\n",
       "        vertical-align: top;\n",
       "    }\n",
       "\n",
       "    .dataframe thead th {\n",
       "        text-align: right;\n",
       "    }\n",
       "</style>\n",
       "<table border=\"1\" class=\"dataframe\">\n",
       "  <thead>\n",
       "    <tr style=\"text-align: right;\">\n",
       "      <th></th>\n",
       "      <th>tailnum</th>\n",
       "      <th>type</th>\n",
       "      <th>manufacturer</th>\n",
       "      <th>issue_date</th>\n",
       "      <th>model</th>\n",
       "      <th>status</th>\n",
       "      <th>aircraft_type</th>\n",
       "      <th>engine_type</th>\n",
       "      <th>year</th>\n",
       "    </tr>\n",
       "  </thead>\n",
       "  <tbody>\n",
       "    <tr>\n",
       "      <th>395</th>\n",
       "      <td>N16502</td>\n",
       "      <td>Corporation</td>\n",
       "      <td>EMBRAER</td>\n",
       "      <td>11/01/2000</td>\n",
       "      <td>EMB-135ER</td>\n",
       "      <td>Valid</td>\n",
       "      <td>Fixed Wing Multi-Engine</td>\n",
       "      <td>Turbo-Jet</td>\n",
       "      <td>1999</td>\n",
       "    </tr>\n",
       "    <tr>\n",
       "      <th>502</th>\n",
       "      <td>N17614</td>\n",
       "      <td>NaN</td>\n",
       "      <td>NaN</td>\n",
       "      <td>NaN</td>\n",
       "      <td>NaN</td>\n",
       "      <td>NaN</td>\n",
       "      <td>NaN</td>\n",
       "      <td>NaN</td>\n",
       "      <td>NaN</td>\n",
       "    </tr>\n",
       "    <tr>\n",
       "      <th>1584</th>\n",
       "      <td>N3BJAA</td>\n",
       "      <td>NaN</td>\n",
       "      <td>NaN</td>\n",
       "      <td>NaN</td>\n",
       "      <td>NaN</td>\n",
       "      <td>NaN</td>\n",
       "      <td>NaN</td>\n",
       "      <td>NaN</td>\n",
       "      <td>NaN</td>\n",
       "    </tr>\n",
       "    <tr>\n",
       "      <th>4067</th>\n",
       "      <td>N822UA</td>\n",
       "      <td>Corporation</td>\n",
       "      <td>AIRBUS INDUSTRIE</td>\n",
       "      <td>02/02/1999</td>\n",
       "      <td>A319-131</td>\n",
       "      <td>Valid</td>\n",
       "      <td>Fixed Wing Multi-Engine</td>\n",
       "      <td>Turbo-Jet</td>\n",
       "      <td>1998</td>\n",
       "    </tr>\n",
       "    <tr>\n",
       "      <th>815</th>\n",
       "      <td>N261AT</td>\n",
       "      <td>Corporation</td>\n",
       "      <td>BOEING</td>\n",
       "      <td>06/02/2005</td>\n",
       "      <td>737-76N</td>\n",
       "      <td>Valid</td>\n",
       "      <td>Fixed Wing Multi-Engine</td>\n",
       "      <td>Turbo-Fan</td>\n",
       "      <td>2005</td>\n",
       "    </tr>\n",
       "  </tbody>\n",
       "</table>\n",
       "</div>"
      ],
      "text/plain": [
       "     tailnum         type      manufacturer  issue_date      model status  \\\n",
       "395   N16502  Corporation           EMBRAER  11/01/2000  EMB-135ER  Valid   \n",
       "502   N17614          NaN               NaN         NaN        NaN    NaN   \n",
       "1584  N3BJAA          NaN               NaN         NaN        NaN    NaN   \n",
       "4067  N822UA  Corporation  AIRBUS INDUSTRIE  02/02/1999   A319-131  Valid   \n",
       "815   N261AT  Corporation            BOEING  06/02/2005    737-76N  Valid   \n",
       "\n",
       "                aircraft_type engine_type  year  \n",
       "395   Fixed Wing Multi-Engine   Turbo-Jet  1999  \n",
       "502                       NaN         NaN   NaN  \n",
       "1584                      NaN         NaN   NaN  \n",
       "4067  Fixed Wing Multi-Engine   Turbo-Jet  1998  \n",
       "815   Fixed Wing Multi-Engine   Turbo-Fan  2005  "
      ]
     },
     "execution_count": 11,
     "metadata": {},
     "output_type": "execute_result"
    }
   ],
   "source": [
    "plane_data_df = getData('https://dataverse.harvard.edu/api/access/datafile/:persistentId?persistentId=doi:10.7910/DVN/HG7NV7/XXSL8A')\n",
    "plane_data_df.sample(5)"
   ]
  },
  {
   "cell_type": "markdown",
   "metadata": {},
   "source": [
    "### Assessing & Cleaning"
   ]
  },
  {
   "cell_type": "markdown",
   "metadata": {},
   "source": [
    "Before we start making changes, let's create a copy of the dataset"
   ]
  },
  {
   "cell_type": "code",
   "execution_count": 12,
   "metadata": {},
   "outputs": [],
   "source": [
    "# Create a copy before we change anything\n",
    "flights_df_copy = flights_df.copy()"
   ]
  },
  {
   "cell_type": "markdown",
   "metadata": {},
   "source": [
    "#### Shape"
   ]
  },
  {
   "cell_type": "markdown",
   "metadata": {},
   "source": [
    "Let's get a better understanding about the shape of our datasets"
   ]
  },
  {
   "cell_type": "code",
   "execution_count": 13,
   "metadata": {},
   "outputs": [
    {
     "data": {
      "text/plain": [
       "(7453215, 29)"
      ]
     },
     "execution_count": 13,
     "metadata": {},
     "output_type": "execute_result"
    }
   ],
   "source": [
    "# Shape of Flights\n",
    "flights_df.shape"
   ]
  },
  {
   "cell_type": "markdown",
   "metadata": {},
   "source": [
    "There are over 7 millions flights recorded in this dataset with 29 features. We will need to decide which features will be useful to us for this analysis"
   ]
  },
  {
   "cell_type": "code",
   "execution_count": 14,
   "metadata": {},
   "outputs": [
    {
     "data": {
      "text/plain": [
       "(3376, 7)"
      ]
     },
     "execution_count": 14,
     "metadata": {},
     "output_type": "execute_result"
    }
   ],
   "source": [
    "# Shape of Airports\n",
    "airport_df.shape"
   ]
  },
  {
   "cell_type": "code",
   "execution_count": 15,
   "metadata": {},
   "outputs": [
    {
     "data": {
      "text/plain": [
       "(1491, 2)"
      ]
     },
     "execution_count": 15,
     "metadata": {},
     "output_type": "execute_result"
    }
   ],
   "source": [
    "# Shape of Carriers\n",
    "carriers_df.shape"
   ]
  },
  {
   "cell_type": "code",
   "execution_count": 16,
   "metadata": {},
   "outputs": [
    {
     "data": {
      "text/plain": [
       "(5029, 9)"
      ]
     },
     "execution_count": 16,
     "metadata": {},
     "output_type": "execute_result"
    }
   ],
   "source": [
    "# Shape of Planes\n",
    "plane_data_df.shape"
   ]
  },
  {
   "cell_type": "markdown",
   "metadata": {},
   "source": [
    "#### Missing values\n",
    "\n",
    "It is important to figure out which columns contain missing values so we can deal with them"
   ]
  },
  {
   "cell_type": "code",
   "execution_count": 17,
   "metadata": {},
   "outputs": [
    {
     "data": {
      "text/plain": [
       "Year                       0\n",
       "Month                      0\n",
       "DayofMonth                 0\n",
       "DayOfWeek                  0\n",
       "DepTime               160748\n",
       "CRSDepTime                 0\n",
       "ArrTime               177927\n",
       "CRSArrTime                 0\n",
       "UniqueCarrier              0\n",
       "FlightNum                  0\n",
       "TailNum                   22\n",
       "ActualElapsedTime     177927\n",
       "CRSElapsedTime           994\n",
       "AirTime               177927\n",
       "ArrDelay              177927\n",
       "DepDelay              160748\n",
       "Origin                     0\n",
       "Dest                       0\n",
       "Distance                   0\n",
       "TaxiIn                     0\n",
       "TaxiOut                    0\n",
       "Cancelled                  0\n",
       "CancellationCode     7292466\n",
       "Diverted                   0\n",
       "CarrierDelay               0\n",
       "WeatherDelay               0\n",
       "NASDelay                   0\n",
       "SecurityDelay              0\n",
       "LateAircraftDelay          0\n",
       "dtype: int64"
      ]
     },
     "execution_count": 17,
     "metadata": {},
     "output_type": "execute_result"
    }
   ],
   "source": [
    "# Count the missing values for each column\n",
    "flights_df.isnull().sum()"
   ]
  },
  {
   "cell_type": "markdown",
   "metadata": {},
   "source": [
    "We can see that CancellationCode has almost all values missing for the column. This could mean that there just weren't values recorded, or it means that there was no value since there was no cancellation. Let's have a look:"
   ]
  },
  {
   "cell_type": "code",
   "execution_count": 18,
   "metadata": {},
   "outputs": [],
   "source": [
    "# find out the amount of records in the dataset\n",
    "flights_count = len(flights_df)"
   ]
  },
  {
   "cell_type": "code",
   "execution_count": 19,
   "metadata": {},
   "outputs": [
    {
     "data": {
      "text/plain": [
       "160749"
      ]
     },
     "execution_count": 19,
     "metadata": {},
     "output_type": "execute_result"
    }
   ],
   "source": [
    "# find out how many flights were canelled\n",
    "flights_cancelled_count = len(flights_df[flights_df['Cancelled'] == 1])\n",
    "\n",
    "# find the value of flights who have a value for CancellationCode\n",
    "len(flights_df[flights_df.CancellationCode.notnull()])"
   ]
  },
  {
   "cell_type": "code",
   "execution_count": 20,
   "metadata": {},
   "outputs": [
    {
     "data": {
      "text/plain": [
       "160748"
      ]
     },
     "execution_count": 20,
     "metadata": {},
     "output_type": "execute_result"
    }
   ],
   "source": [
    "flights_cancelled_count"
   ]
  },
  {
   "cell_type": "markdown",
   "metadata": {},
   "source": [
    "We can see that these values are about the same, meaning the values aren't missing, there just is not information to record since there are no cancellations. There will only be a cancellation code in case there was a cancellation,\n",
    "\n",
    "The same goes for the other columns with null values, there isnt missing information, it was left blank intentionally."
   ]
  },
  {
   "cell_type": "markdown",
   "metadata": {},
   "source": [
    "#### Datatypes"
   ]
  },
  {
   "cell_type": "code",
   "execution_count": 21,
   "metadata": {},
   "outputs": [
    {
     "data": {
      "text/plain": [
       "Year                   int64\n",
       "Month                  int64\n",
       "DayofMonth             int64\n",
       "DayOfWeek              int64\n",
       "DepTime              float64\n",
       "CRSDepTime             int64\n",
       "ArrTime              float64\n",
       "CRSArrTime             int64\n",
       "UniqueCarrier         object\n",
       "FlightNum              int64\n",
       "TailNum               object\n",
       "ActualElapsedTime    float64\n",
       "CRSElapsedTime       float64\n",
       "AirTime              float64\n",
       "ArrDelay             float64\n",
       "DepDelay             float64\n",
       "Origin                object\n",
       "Dest                  object\n",
       "Distance               int64\n",
       "TaxiIn                 int64\n",
       "TaxiOut                int64\n",
       "Cancelled              int64\n",
       "CancellationCode      object\n",
       "Diverted               int64\n",
       "CarrierDelay           int64\n",
       "WeatherDelay           int64\n",
       "NASDelay               int64\n",
       "SecurityDelay          int64\n",
       "LateAircraftDelay      int64\n",
       "dtype: object"
      ]
     },
     "execution_count": 21,
     "metadata": {},
     "output_type": "execute_result"
    }
   ],
   "source": [
    "flights_df.dtypes"
   ]
  },
  {
   "cell_type": "markdown",
   "metadata": {},
   "source": [
    "We can see some issues with the datatypes which are as follow:\n",
    "- DepTime, CRSDepTime, ArrTime, CRSArrTime\n",
    "> These are times in the format of hh:mm. The datatype should be changed to datetime instead of integer or float.\n",
    "\n",
    "- ActualElapsedTime, CRSElapsedTime, AirTime, ArrDelay, DepDelay are all times in minutes, and should be of integer type instead of float since the deciaml only contains 0 which gives no exra information.\n",
    "> To fix this, we can use the astype() method to convert from float to int\n",
    "\n",
    "- FlightNum should be a string/object type instead of an integer since we won't be performing any calculations with these values.\n",
    "> To fix this issue, again we can use the astype() method to convert from an integer to a string\n",
    "\n",
    "Let's start fixing these issues:\n",
    "\n",
    "To fix the issue where the times are in the float format instead of a time, we can first fill all the empty values with some number that won't conflict with the actual times. For this we can use '9999' since it will eventually convert to 99:99 which is not a real time, so we will reomve all these occurences at the end. Then we will remove the decimal by converting the columns to integer. Finally we can apply pd.to_datetime on the columns with a format set to %H%M which will gives us the desired format. Finally we replace the occurences of the 99:99 with np.nan.\n"
   ]
  },
  {
   "cell_type": "code",
   "execution_count": 22,
   "metadata": {
    "scrolled": true
   },
   "outputs": [
    {
     "data": {
      "text/html": [
       "<div>\n",
       "<style scoped>\n",
       "    .dataframe tbody tr th:only-of-type {\n",
       "        vertical-align: middle;\n",
       "    }\n",
       "\n",
       "    .dataframe tbody tr th {\n",
       "        vertical-align: top;\n",
       "    }\n",
       "\n",
       "    .dataframe thead th {\n",
       "        text-align: right;\n",
       "    }\n",
       "</style>\n",
       "<table border=\"1\" class=\"dataframe\">\n",
       "  <thead>\n",
       "    <tr style=\"text-align: right;\">\n",
       "      <th></th>\n",
       "      <th>DepTime</th>\n",
       "      <th>CRSDepTime</th>\n",
       "      <th>ArrTime</th>\n",
       "      <th>CRSArrTime</th>\n",
       "    </tr>\n",
       "  </thead>\n",
       "  <tbody>\n",
       "    <tr>\n",
       "      <th>0</th>\n",
       "      <td>1232.0</td>\n",
       "      <td>1225</td>\n",
       "      <td>1341.0</td>\n",
       "      <td>1340</td>\n",
       "    </tr>\n",
       "    <tr>\n",
       "      <th>1</th>\n",
       "      <td>1918.0</td>\n",
       "      <td>1905</td>\n",
       "      <td>2043.0</td>\n",
       "      <td>2035</td>\n",
       "    </tr>\n",
       "    <tr>\n",
       "      <th>2</th>\n",
       "      <td>2206.0</td>\n",
       "      <td>2130</td>\n",
       "      <td>2334.0</td>\n",
       "      <td>2300</td>\n",
       "    </tr>\n",
       "    <tr>\n",
       "      <th>3</th>\n",
       "      <td>1230.0</td>\n",
       "      <td>1200</td>\n",
       "      <td>1356.0</td>\n",
       "      <td>1330</td>\n",
       "    </tr>\n",
       "    <tr>\n",
       "      <th>4</th>\n",
       "      <td>831.0</td>\n",
       "      <td>830</td>\n",
       "      <td>957.0</td>\n",
       "      <td>1000</td>\n",
       "    </tr>\n",
       "  </tbody>\n",
       "</table>\n",
       "</div>"
      ],
      "text/plain": [
       "   DepTime  CRSDepTime  ArrTime  CRSArrTime\n",
       "0   1232.0        1225   1341.0        1340\n",
       "1   1918.0        1905   2043.0        2035\n",
       "2   2206.0        2130   2334.0        2300\n",
       "3   1230.0        1200   1356.0        1330\n",
       "4    831.0         830    957.0        1000"
      ]
     },
     "execution_count": 22,
     "metadata": {},
     "output_type": "execute_result"
    }
   ],
   "source": [
    "# Preview these columns and how the data looks\n",
    "flights_df.head()[['DepTime', 'CRSDepTime', 'ArrTime', 'CRSArrTime']]"
   ]
  },
  {
   "cell_type": "markdown",
   "metadata": {},
   "source": [
    "Let's have a look at the DepTime"
   ]
  },
  {
   "cell_type": "code",
   "execution_count": 23,
   "metadata": {},
   "outputs": [
    {
     "data": {
      "text/plain": [
       "3361982    1.0\n",
       "2086038    1.0\n",
       "7103326    1.0\n",
       "7433047    1.0\n",
       "6175133    1.0\n",
       "3354387    1.0\n",
       "660941     1.0\n",
       "2382736    1.0\n",
       "3354467    1.0\n",
       "3986059    1.0\n",
       "1920811    1.0\n",
       "3600207    1.0\n",
       "5542593    1.0\n",
       "2805075    1.0\n",
       "4621337    1.0\n",
       "7150912    1.0\n",
       "2541919    1.0\n",
       "204221     1.0\n",
       "4095913    1.0\n",
       "2799895    1.0\n",
       "3628947    1.0\n",
       "1783735    1.0\n",
       "3833276    1.0\n",
       "6559328    1.0\n",
       "5428276    1.0\n",
       "7357200    1.0\n",
       "5428283    1.0\n",
       "5222166    1.0\n",
       "7357185    1.0\n",
       "3984568    1.0\n",
       "          ... \n",
       "7451797    NaN\n",
       "7451800    NaN\n",
       "7451801    NaN\n",
       "7451803    NaN\n",
       "7451804    NaN\n",
       "7451805    NaN\n",
       "7451806    NaN\n",
       "7451807    NaN\n",
       "7451809    NaN\n",
       "7451810    NaN\n",
       "7451812    NaN\n",
       "7451813    NaN\n",
       "7451934    NaN\n",
       "7452094    NaN\n",
       "7452107    NaN\n",
       "7452299    NaN\n",
       "7452315    NaN\n",
       "7452466    NaN\n",
       "7452544    NaN\n",
       "7452754    NaN\n",
       "7452884    NaN\n",
       "7452887    NaN\n",
       "7453030    NaN\n",
       "7453102    NaN\n",
       "7453120    NaN\n",
       "7453123    NaN\n",
       "7453124    NaN\n",
       "7453130    NaN\n",
       "7453131    NaN\n",
       "7453199    NaN\n",
       "Name: DepTime, Length: 7453215, dtype: float64"
      ]
     },
     "execution_count": 23,
     "metadata": {},
     "output_type": "execute_result"
    }
   ],
   "source": [
    "# Sort the values\n",
    "flights_df.DepTime.sort_values()"
   ]
  },
  {
   "cell_type": "markdown",
   "metadata": {},
   "source": [
    "There is a problem above, The minumum value is 1, which means 01:00, but it will not translate to a time since it needs to be 10 at the vary least. We can demonstrate this below"
   ]
  },
  {
   "cell_type": "code",
   "execution_count": 24,
   "metadata": {},
   "outputs": [
    {
     "data": {
      "text/plain": [
       "NaT"
      ]
     },
     "execution_count": 24,
     "metadata": {},
     "output_type": "execute_result"
    }
   ],
   "source": [
    "time = 1\n",
    "time = pd.to_datetime(time, format='%H%M', errors='coerce')\n",
    "time"
   ]
  },
  {
   "cell_type": "markdown",
   "metadata": {},
   "source": [
    "Above we can see that it translates to NaT, which is undefined. Let's try 10 "
   ]
  },
  {
   "cell_type": "code",
   "execution_count": 25,
   "metadata": {},
   "outputs": [
    {
     "data": {
      "text/plain": [
       "Timestamp('1900-01-01 01:00:00')"
      ]
     },
     "execution_count": 25,
     "metadata": {},
     "output_type": "execute_result"
    }
   ],
   "source": [
    "time = 10\n",
    "time = pd.to_datetime(time, format='%H%M', errors='coerce')\n",
    "time"
   ]
  },
  {
   "cell_type": "code",
   "execution_count": 26,
   "metadata": {},
   "outputs": [
    {
     "data": {
      "text/plain": [
       "11160     06:00:00\n",
       "13002     04:00:00\n",
       "118580    02:00:00\n",
       "127187    07:00:00\n",
       "129434    06:00:00\n",
       "Name: DepTime, dtype: object"
      ]
     },
     "execution_count": 26,
     "metadata": {},
     "output_type": "execute_result"
    }
   ],
   "source": [
    "test = flights_df.loc[flights_df.DepTime < 10].head()\n",
    "test.DepTime = test.DepTime.astype(int)\n",
    "test.DepTime = test.DepTime * 10\n",
    "pd.to_datetime(test.DepTime, format='%H%M').dt.time"
   ]
  },
  {
   "cell_type": "markdown",
   "metadata": {},
   "source": [
    "We can see that '10' will give us the desired time This means we need to change all values which are '<10' and append a 0. To do this with integers, we can multiply by 10."
   ]
  },
  {
   "cell_type": "code",
   "execution_count": 27,
   "metadata": {},
   "outputs": [
    {
     "data": {
      "text/plain": [
       "11160      60.0\n",
       "13002      40.0\n",
       "118580     20.0\n",
       "127187     70.0\n",
       "129434     60.0\n",
       "129437     30.0\n",
       "129444     80.0\n",
       "129454     50.0\n",
       "130293     50.0\n",
       "130299     50.0\n",
       "130306     50.0\n",
       "131157     70.0\n",
       "132004     50.0\n",
       "132006     50.0\n",
       "132013     30.0\n",
       "132019     50.0\n",
       "132172     10.0\n",
       "133687     70.0\n",
       "133700     80.0\n",
       "133703     70.0\n",
       "136998     30.0\n",
       "138730     50.0\n",
       "138825     30.0\n",
       "140355     50.0\n",
       "141363     80.0\n",
       "142891     50.0\n",
       "143882     30.0\n",
       "144595     80.0\n",
       "144609     40.0\n",
       "144612     70.0\n",
       "           ... \n",
       "7426396    10.0\n",
       "7427322    90.0\n",
       "7427776    10.0\n",
       "7428819    90.0\n",
       "7429069    10.0\n",
       "7430051    50.0\n",
       "7430767    10.0\n",
       "7431995    40.0\n",
       "7432532    50.0\n",
       "7433047    10.0\n",
       "7434576    50.0\n",
       "7434667    20.0\n",
       "7434961    30.0\n",
       "7436480    60.0\n",
       "7437250    10.0\n",
       "7438864    60.0\n",
       "7440162    20.0\n",
       "7440412    30.0\n",
       "7441446    60.0\n",
       "7441752    60.0\n",
       "7441896    70.0\n",
       "7442117    10.0\n",
       "7443124    70.0\n",
       "7443933    20.0\n",
       "7444289    10.0\n",
       "7444467    50.0\n",
       "7445573    50.0\n",
       "7450769    70.0\n",
       "7451522    20.0\n",
       "7452260    30.0\n",
       "Name: DepTime, Length: 4915, dtype: float64"
      ]
     },
     "execution_count": 27,
     "metadata": {},
     "output_type": "execute_result"
    }
   ],
   "source": [
    "#flights_df.apply(lambda row: row['DepTime'] if row['DepTime'] < 10 else 11, axis=1)\n",
    "mask = (flights_df['DepTime'] <10)\n",
    "vals = flights_df.loc[mask]['DepTime'] * 10\n",
    "vals"
   ]
  },
  {
   "cell_type": "code",
   "execution_count": 28,
   "metadata": {},
   "outputs": [
    {
     "data": {
      "text/plain": [
       "3361982    1.0\n",
       "2086038    1.0\n",
       "7103326    1.0\n",
       "7433047    1.0\n",
       "6175133    1.0\n",
       "3354387    1.0\n",
       "660941     1.0\n",
       "2382736    1.0\n",
       "3354467    1.0\n",
       "3986059    1.0\n",
       "1920811    1.0\n",
       "3600207    1.0\n",
       "5542593    1.0\n",
       "2805075    1.0\n",
       "4621337    1.0\n",
       "7150912    1.0\n",
       "2541919    1.0\n",
       "204221     1.0\n",
       "4095913    1.0\n",
       "2799895    1.0\n",
       "3628947    1.0\n",
       "1783735    1.0\n",
       "3833276    1.0\n",
       "6559328    1.0\n",
       "5428276    1.0\n",
       "7357200    1.0\n",
       "5428283    1.0\n",
       "5222166    1.0\n",
       "7357185    1.0\n",
       "3984568    1.0\n",
       "          ... \n",
       "7451797    NaN\n",
       "7451800    NaN\n",
       "7451801    NaN\n",
       "7451803    NaN\n",
       "7451804    NaN\n",
       "7451805    NaN\n",
       "7451806    NaN\n",
       "7451807    NaN\n",
       "7451809    NaN\n",
       "7451810    NaN\n",
       "7451812    NaN\n",
       "7451813    NaN\n",
       "7451934    NaN\n",
       "7452094    NaN\n",
       "7452107    NaN\n",
       "7452299    NaN\n",
       "7452315    NaN\n",
       "7452466    NaN\n",
       "7452544    NaN\n",
       "7452754    NaN\n",
       "7452884    NaN\n",
       "7452887    NaN\n",
       "7453030    NaN\n",
       "7453102    NaN\n",
       "7453120    NaN\n",
       "7453123    NaN\n",
       "7453124    NaN\n",
       "7453130    NaN\n",
       "7453131    NaN\n",
       "7453199    NaN\n",
       "Name: DepTime, Length: 7453215, dtype: float64"
      ]
     },
     "execution_count": 28,
     "metadata": {},
     "output_type": "execute_result"
    }
   ],
   "source": [
    "flights_df.DepTime.sort_values()"
   ]
  },
  {
   "cell_type": "code",
   "execution_count": 29,
   "metadata": {},
   "outputs": [],
   "source": [
    "# Function to convert from int and float to time\n",
    "\n",
    "flights_df = flights_df_copy\n",
    "# Change time fields from float and int to time\n",
    "for field in ['DepTime', 'CRSDepTime', 'ArrTime', 'CRSArrTime']:\n",
    "    flights_df[field] = flights_df[field].fillna(9999)\n",
    "    if field == 'DepTime' or field == 'ArrTime' :# these are float and need to go to int first\n",
    "        flights_df[field] = flights_df[field].astype('int64') # convert floats to integers to remove the trailiing 0\n",
    "    flights_df.loc[flights_df[field] < 10, field] = 10 * flights_df.loc[flights_df[field] < 10][field]\n",
    "    flights_df[field] = pd.to_datetime(flights_df[field], format='%H%M', errors='coerce')#.dt.time # change to time format\n",
    "    flights_df[field] = flights_df[field].replace(9999, np.nan) # replace the 99:99 with null again"
   ]
  },
  {
   "cell_type": "code",
   "execution_count": 30,
   "metadata": {},
   "outputs": [
    {
     "data": {
      "text/html": [
       "<div>\n",
       "<style scoped>\n",
       "    .dataframe tbody tr th:only-of-type {\n",
       "        vertical-align: middle;\n",
       "    }\n",
       "\n",
       "    .dataframe tbody tr th {\n",
       "        vertical-align: top;\n",
       "    }\n",
       "\n",
       "    .dataframe thead th {\n",
       "        text-align: right;\n",
       "    }\n",
       "</style>\n",
       "<table border=\"1\" class=\"dataframe\">\n",
       "  <thead>\n",
       "    <tr style=\"text-align: right;\">\n",
       "      <th></th>\n",
       "      <th>DepTime</th>\n",
       "      <th>CRSDepTime</th>\n",
       "      <th>ArrTime</th>\n",
       "      <th>CRSArrTime</th>\n",
       "    </tr>\n",
       "  </thead>\n",
       "  <tbody>\n",
       "    <tr>\n",
       "      <th>0</th>\n",
       "      <td>1900-01-01 12:32:00</td>\n",
       "      <td>1900-01-01 12:25:00</td>\n",
       "      <td>1900-01-01 13:41:00</td>\n",
       "      <td>1900-01-01 13:40:00</td>\n",
       "    </tr>\n",
       "    <tr>\n",
       "      <th>1</th>\n",
       "      <td>1900-01-01 19:18:00</td>\n",
       "      <td>1900-01-01 19:05:00</td>\n",
       "      <td>1900-01-01 20:43:00</td>\n",
       "      <td>1900-01-01 20:35:00</td>\n",
       "    </tr>\n",
       "    <tr>\n",
       "      <th>2</th>\n",
       "      <td>1900-01-01 22:06:00</td>\n",
       "      <td>1900-01-01 21:30:00</td>\n",
       "      <td>1900-01-01 23:34:00</td>\n",
       "      <td>1900-01-01 23:00:00</td>\n",
       "    </tr>\n",
       "    <tr>\n",
       "      <th>3</th>\n",
       "      <td>1900-01-01 12:30:00</td>\n",
       "      <td>1900-01-01 12:00:00</td>\n",
       "      <td>1900-01-01 13:56:00</td>\n",
       "      <td>1900-01-01 13:30:00</td>\n",
       "    </tr>\n",
       "    <tr>\n",
       "      <th>4</th>\n",
       "      <td>1900-01-01 08:31:00</td>\n",
       "      <td>1900-01-01 08:30:00</td>\n",
       "      <td>1900-01-01 09:57:00</td>\n",
       "      <td>1900-01-01 10:00:00</td>\n",
       "    </tr>\n",
       "  </tbody>\n",
       "</table>\n",
       "</div>"
      ],
      "text/plain": [
       "              DepTime          CRSDepTime             ArrTime  \\\n",
       "0 1900-01-01 12:32:00 1900-01-01 12:25:00 1900-01-01 13:41:00   \n",
       "1 1900-01-01 19:18:00 1900-01-01 19:05:00 1900-01-01 20:43:00   \n",
       "2 1900-01-01 22:06:00 1900-01-01 21:30:00 1900-01-01 23:34:00   \n",
       "3 1900-01-01 12:30:00 1900-01-01 12:00:00 1900-01-01 13:56:00   \n",
       "4 1900-01-01 08:31:00 1900-01-01 08:30:00 1900-01-01 09:57:00   \n",
       "\n",
       "           CRSArrTime  \n",
       "0 1900-01-01 13:40:00  \n",
       "1 1900-01-01 20:35:00  \n",
       "2 1900-01-01 23:00:00  \n",
       "3 1900-01-01 13:30:00  \n",
       "4 1900-01-01 10:00:00  "
      ]
     },
     "execution_count": 30,
     "metadata": {},
     "output_type": "execute_result"
    }
   ],
   "source": [
    "flights_df[['DepTime', 'CRSDepTime', 'ArrTime', 'CRSArrTime']].head()"
   ]
  },
  {
   "cell_type": "markdown",
   "metadata": {},
   "source": [
    "Now we need to convert the variables which are in minutes, to be integers. We can again use the astype(int) method. Since there are missing values, we need to fill the missing values with a value in order for the change to work. We will use the fillna method for this. Since these are empty, it means they should all be 0. We can replace these with 0."
   ]
  },
  {
   "cell_type": "code",
   "execution_count": 31,
   "metadata": {},
   "outputs": [],
   "source": [
    "# fill the missing values with 0\n",
    "flights_df.fillna({'ActualElapsedTime':0, 'CRSElapsedTime':0, 'AirTime':0, 'ArrDelay':0, 'DepDelay':0}, inplace=True)"
   ]
  },
  {
   "cell_type": "code",
   "execution_count": 32,
   "metadata": {},
   "outputs": [
    {
     "data": {
      "text/plain": [
       "ActualElapsedTime    float64\n",
       "CRSElapsedTime       float64\n",
       "AirTime              float64\n",
       "ArrDelay             float64\n",
       "DepDelay             float64\n",
       "dtype: object"
      ]
     },
     "execution_count": 32,
     "metadata": {},
     "output_type": "execute_result"
    }
   ],
   "source": [
    "# Preview the types\n",
    "flights_df[['ActualElapsedTime', 'CRSElapsedTime', 'AirTime', 'ArrDelay', 'DepDelay']].dtypes"
   ]
  },
  {
   "cell_type": "code",
   "execution_count": 33,
   "metadata": {},
   "outputs": [
    {
     "data": {
      "text/plain": [
       "ActualElapsedTime    0\n",
       "CRSElapsedTime       0\n",
       "AirTime              0\n",
       "ArrDelay             0\n",
       "DepDelay             0\n",
       "dtype: int64"
      ]
     },
     "execution_count": 33,
     "metadata": {},
     "output_type": "execute_result"
    }
   ],
   "source": [
    "# Make sure these columns have no more empty values so we can proceed\n",
    "flights_df[['ActualElapsedTime', 'CRSElapsedTime', 'AirTime', 'ArrDelay', 'DepDelay']].isnull().sum()"
   ]
  },
  {
   "cell_type": "markdown",
   "metadata": {},
   "source": [
    "We can see that these columns no longer have any missing values so we can now apply our type transformation"
   ]
  },
  {
   "cell_type": "code",
   "execution_count": 34,
   "metadata": {},
   "outputs": [],
   "source": [
    "# Convert datatypes of times from float to int\n",
    "flights_df[['ActualElapsedTime', 'CRSElapsedTime', 'AirTime', 'ArrDelay', 'DepDelay']] = flights_df[['ActualElapsedTime', 'CRSElapsedTime', 'AirTime', 'ArrDelay', 'DepDelay']].apply(lambda x: x.astype('int'))"
   ]
  },
  {
   "cell_type": "code",
   "execution_count": 35,
   "metadata": {},
   "outputs": [
    {
     "data": {
      "text/plain": [
       "ActualElapsedTime    int64\n",
       "CRSElapsedTime       int64\n",
       "AirTime              int64\n",
       "ArrDelay             int64\n",
       "DepDelay             int64\n",
       "dtype: object"
      ]
     },
     "execution_count": 35,
     "metadata": {},
     "output_type": "execute_result"
    }
   ],
   "source": [
    "flights_df[['ActualElapsedTime', 'CRSElapsedTime', 'AirTime', 'ArrDelay', 'DepDelay']].dtypes"
   ]
  },
  {
   "cell_type": "markdown",
   "metadata": {},
   "source": [
    "We can now see these columns are the correct type.\n",
    "\n",
    "Let's have a look at how our datatypes are looking now."
   ]
  },
  {
   "cell_type": "code",
   "execution_count": 36,
   "metadata": {},
   "outputs": [
    {
     "data": {
      "text/plain": [
       "Year                          int64\n",
       "Month                         int64\n",
       "DayofMonth                    int64\n",
       "DayOfWeek                     int64\n",
       "DepTime              datetime64[ns]\n",
       "CRSDepTime           datetime64[ns]\n",
       "ArrTime              datetime64[ns]\n",
       "CRSArrTime           datetime64[ns]\n",
       "UniqueCarrier                object\n",
       "FlightNum                     int64\n",
       "TailNum                      object\n",
       "ActualElapsedTime             int64\n",
       "CRSElapsedTime                int64\n",
       "AirTime                       int64\n",
       "ArrDelay                      int64\n",
       "DepDelay                      int64\n",
       "Origin                       object\n",
       "Dest                         object\n",
       "Distance                      int64\n",
       "TaxiIn                        int64\n",
       "TaxiOut                       int64\n",
       "Cancelled                     int64\n",
       "CancellationCode             object\n",
       "Diverted                      int64\n",
       "CarrierDelay                  int64\n",
       "WeatherDelay                  int64\n",
       "NASDelay                      int64\n",
       "SecurityDelay                 int64\n",
       "LateAircraftDelay             int64\n",
       "dtype: object"
      ]
     },
     "execution_count": 36,
     "metadata": {},
     "output_type": "execute_result"
    }
   ],
   "source": [
    "flights_df.dtypes"
   ]
  },
  {
   "cell_type": "markdown",
   "metadata": {},
   "source": [
    "We will make use of the hours field in the datetime, so let's create a new field out of the existing DepTime field for the hours unit"
   ]
  },
  {
   "cell_type": "code",
   "execution_count": 37,
   "metadata": {},
   "outputs": [
    {
     "data": {
      "text/plain": [
       "0    12.0\n",
       "1    19.0\n",
       "2    22.0\n",
       "3    12.0\n",
       "4     8.0\n",
       "Name: DepTime_Hour, dtype: float64"
      ]
     },
     "execution_count": 37,
     "metadata": {},
     "output_type": "execute_result"
    }
   ],
   "source": [
    "flights_df['DepTime_Hour'] = flights_df.DepTime.dt.hour\n",
    "flights_df['DepTime_Hour'].head()"
   ]
  },
  {
   "cell_type": "markdown",
   "metadata": {},
   "source": [
    "Now we need to convert these to integer, to avoid error, we will temporarily fill with unused value"
   ]
  },
  {
   "cell_type": "code",
   "execution_count": 38,
   "metadata": {},
   "outputs": [
    {
     "data": {
      "text/plain": [
       "0    12\n",
       "1    19\n",
       "2    22\n",
       "3    12\n",
       "4     8\n",
       "Name: DepTime_Hour, dtype: int64"
      ]
     },
     "execution_count": 38,
     "metadata": {},
     "output_type": "execute_result"
    }
   ],
   "source": [
    "\n",
    "flights_df['DepTime_Hour'] = flights_df['DepTime_Hour'].fillna(9999.0)\n",
    "flights_df['DepTime_Hour'] = flights_df['DepTime_Hour'].astype(int)\n",
    "flights_df['DepTime_Hour'].head()"
   ]
  },
  {
   "cell_type": "code",
   "execution_count": 39,
   "metadata": {},
   "outputs": [],
   "source": [
    "# Replace all 9999 and 9999.0 with null again\n",
    "#flights_df = flights_df.replace(9999, np.nan)\n",
    "flights_df['DepTime_Hour']  = flights_df['DepTime_Hour'] .replace(9999, np.nan)"
   ]
  },
  {
   "cell_type": "markdown",
   "metadata": {},
   "source": [
    "Before we start the visualization, let's store this in a new CSV which we will make use of in the next phase."
   ]
  },
  {
   "cell_type": "code",
   "execution_count": 40,
   "metadata": {},
   "outputs": [],
   "source": [
    "flights_df.to_csv('flights_cleaned.csv', index=False)"
   ]
  },
  {
   "cell_type": "markdown",
   "metadata": {},
   "source": [
    "### What is the structure of your dataset?\n",
    "\n",
    "> Our main dataframe - flights - has the sturcture of **7453215** records/rows and **29** variables/columns\n",
    "\n",
    "### What is/are the main feature(s) of interest in your dataset?\n",
    "\n",
    "> Most features will be used, with the main ones being the features with times and whether the flight is cancelled or not.\n",
    "\n",
    "### What features in the dataset do you think will help support your investigation into your feature(s) of interest?\n",
    "\n",
    "> All features will contribute to the investigation of these features."
   ]
  },
  {
   "cell_type": "markdown",
   "metadata": {},
   "source": [
    "## Univariate Exploration\n"
   ]
  },
  {
   "cell_type": "markdown",
   "metadata": {},
   "source": [
    "### Question\n",
    "\n",
    "What is the ratio between flights that were cancelled and those that weren't?"
   ]
  },
  {
   "cell_type": "code",
   "execution_count": 41,
   "metadata": {},
   "outputs": [
    {
     "data": {
      "text/plain": [
       "1     160748\n",
       "0    7292467\n",
       "Name: Cancelled, dtype: int64"
      ]
     },
     "execution_count": 41,
     "metadata": {},
     "output_type": "execute_result"
    }
   ],
   "source": [
    "# Let's see the infomration first\n",
    "flights_df.Cancelled.value_counts().sort_values()"
   ]
  },
  {
   "cell_type": "markdown",
   "metadata": {},
   "source": [
    "We know 0 is False and 1 is true so we can create the labels"
   ]
  },
  {
   "cell_type": "markdown",
   "metadata": {},
   "source": [
    "### Visualization"
   ]
  },
  {
   "cell_type": "code",
   "execution_count": 42,
   "metadata": {},
   "outputs": [
    {
     "data": {
      "text/plain": [
       "Text(0.5,1.2,'Was the flight cancelled?')"
      ]
     },
     "execution_count": 42,
     "metadata": {},
     "output_type": "execute_result"
    },
    {
     "data": {
      "image/png": "[encoded data removed]",
      "text/plain": [
       "<matplotlib.figure.Figure at 0x7f21a12c1c88>"
      ]
     },
     "metadata": {},
     "output_type": "display_data"
    }
   ],
   "source": [
    "labels = ['True', 'False']\n",
    "\n",
    "sorted_counts = flights_df.Cancelled.value_counts().sort_values()\n",
    "plt.pie(sorted_counts, labels = labels, startangle = 90, counterclock = False, colors=['#39A0ED', '#f3f3f3'], autopct='%1.0f%%', pctdistance=1.1, labeldistance=1.3);\n",
    "plt.axis('square');\n",
    "plt.title('Was the flight cancelled?', y=1.2)"
   ]
  },
  {
   "cell_type": "markdown",
   "metadata": {},
   "source": [
    "### Observation\n",
    "We can see that only 2% of the flights listed were cancelled, meaning 98% of flights did have a lift off."
   ]
  },
  {
   "cell_type": "markdown",
   "metadata": {},
   "source": [
    "<p style=\"border-top: 3px solid black; padding-top: 30px;\"></p>"
   ]
  },
  {
   "cell_type": "markdown",
   "metadata": {},
   "source": [
    "### Question\n",
    "\n",
    "How long are Carrier Delays usually?"
   ]
  },
  {
   "cell_type": "markdown",
   "metadata": {},
   "source": [
    "### Visualization"
   ]
  },
  {
   "cell_type": "code",
   "execution_count": 43,
   "metadata": {},
   "outputs": [
    {
     "data": {
      "image/png": "[encoded data removed]",
      "text/plain": [
       "<matplotlib.figure.Figure at 0x7f21a12a3a90>"
      ]
     },
     "metadata": {
      "needs_background": "light"
     },
     "output_type": "display_data"
    }
   ],
   "source": [
    "bins = np.arange(0, flights_df.CarrierDelay.max()+10, 10)\n",
    "plt.hist(data = flights_df, x = 'CarrierDelay', bins = bins);\n",
    "plt.xlim(xmin=0, xmax = 120)\n",
    "plt.title('Carrier Delays in minutes');"
   ]
  },
  {
   "cell_type": "markdown",
   "metadata": {},
   "source": [
    "### Observation"
   ]
  },
  {
   "cell_type": "markdown",
   "metadata": {},
   "source": [
    "We can see that the carrier delays are usually less than 10 minutes."
   ]
  },
  {
   "cell_type": "markdown",
   "metadata": {},
   "source": [
    "<p style=\"border-top: 3px solid black; padding-top: 30px;\"></p>"
   ]
  },
  {
   "cell_type": "markdown",
   "metadata": {},
   "source": [
    "### Question\n",
    "\n",
    "Which locations are the most common destination?"
   ]
  },
  {
   "cell_type": "markdown",
   "metadata": {},
   "source": [
    "### Visualization"
   ]
  },
  {
   "cell_type": "code",
   "execution_count": 44,
   "metadata": {
    "scrolled": true
   },
   "outputs": [
    {
     "data": {
      "image/png": "[encoded data removed]",
      "text/plain": [
       "<matplotlib.figure.Figure at 0x7f21a0741a58>"
      ]
     },
     "metadata": {
      "needs_background": "light"
     },
     "output_type": "display_data"
    }
   ],
   "source": [
    "base_color = sb.color_palette()[0]\n",
    "#fig, ax = plt.subplots(figsize=(10, 20))\n",
    "type_order = flights_df['Dest'].value_counts().sort_values(ascending=False).index\n",
    "flights_df['Dest'].value_counts().sort_values(ascending=False)[:10].plot(kind='bar', color='#39A0ED')\n",
    "plt.title('Top 10 flight destinations');"
   ]
  },
  {
   "cell_type": "markdown",
   "metadata": {},
   "source": [
    "### Observation\n",
    "\n",
    "We can see the destinations that make up most of the flights are ATL, ORD and DFW"
   ]
  },
  {
   "cell_type": "markdown",
   "metadata": {},
   "source": [
    "<p style=\"border-top: 3px solid black; padding-top: 30px;\"></p>"
   ]
  },
  {
   "cell_type": "markdown",
   "metadata": {},
   "source": [
    "### Question\n",
    "\n",
    "Which day of the week had the most flights?"
   ]
  },
  {
   "cell_type": "code",
   "execution_count": 45,
   "metadata": {},
   "outputs": [
    {
     "data": {
      "text/plain": [
       "1    1112474\n",
       "5    1101689\n",
       "4    1097738\n",
       "3    1088858\n",
       "2    1078562\n",
       "7    1040556\n",
       "6     933338\n",
       "Name: DayOfWeek, dtype: int64"
      ]
     },
     "execution_count": 45,
     "metadata": {},
     "output_type": "execute_result"
    }
   ],
   "source": [
    "flights_df['DayOfWeek'].value_counts()"
   ]
  },
  {
   "cell_type": "code",
   "execution_count": 46,
   "metadata": {},
   "outputs": [
    {
     "data": {
      "image/png": "[encoded data removed]",
      "text/plain": [
       "<matplotlib.figure.Figure at 0x7f21a12bbba8>"
      ]
     },
     "metadata": {
      "needs_background": "light"
     },
     "output_type": "display_data"
    }
   ],
   "source": [
    "#counts = flights_df['DayOfWeek'].value_counts().sort_index()\n",
    "days = ['Mon', 'Tue', 'Wed', 'Thu', 'Fri', 'Sat', 'Sun']\n",
    "fig, ax = plt.subplots(figsize=(12, 8))\n",
    "flights_df['DayOfWeek'].value_counts().sort_index().plot(kind='bar', color='#39A0ED', ax=ax)\n",
    "ax.set_xticklabels(days)\n",
    "plt.title('Total flights for each specific day of the week?');"
   ]
  },
  {
   "cell_type": "markdown",
   "metadata": {},
   "source": [
    "### Observation\n",
    "\n",
    "We can see the most popular days of flight is on a Monday followed by Fridays. Saturdays are clearly the least popular days for flights."
   ]
  },
  {
   "cell_type": "markdown",
   "metadata": {},
   "source": [
    "<p style=\"border-top: 3px solid black; padding-top: 30px;\"></p>"
   ]
  },
  {
   "cell_type": "markdown",
   "metadata": {},
   "source": [
    "### Question\n",
    "\n",
    "How long do flights take?"
   ]
  },
  {
   "cell_type": "markdown",
   "metadata": {},
   "source": [
    "### Visualization"
   ]
  },
  {
   "cell_type": "code",
   "execution_count": 47,
   "metadata": {},
   "outputs": [
    {
     "data": {
      "image/png": "[encoded data removed]",
      "text/plain": [
       "<matplotlib.figure.Figure at 0x7f21a0f0e550>"
      ]
     },
     "metadata": {
      "needs_background": "light"
     },
     "output_type": "display_data"
    }
   ],
   "source": [
    "# Create bins with step-size 50\n",
    "bins = np.arange(0, flights_df.AirTime.max()+50, 50)\n",
    "plt.hist(data = flights_df, x = 'AirTime', bins = bins);\n",
    "#plt.hist(data = flights_df, x = 'AirTime', bins = 100)\n",
    "plt.title('Flight airtime in minutes');"
   ]
  },
  {
   "cell_type": "code",
   "execution_count": 48,
   "metadata": {},
   "outputs": [
    {
     "data": {
      "image/png": "[encoded data removed]",
      "text/plain": [
       "<matplotlib.figure.Figure at 0x7f21a0eed400>"
      ]
     },
     "metadata": {
      "needs_background": "light"
     },
     "output_type": "display_data"
    }
   ],
   "source": [
    "# Since most of our data is to the left, lets decrease the max x-limit to have a better view\n",
    "# Let's also decrease our bin size to have a better idea of how our data is distributed.\n",
    "bins = np.arange(0, flights_df.AirTime.max()+20, 20)\n",
    "plt.hist(data = flights_df, x = 'AirTime', bins = bins);\n",
    "plt.xlim(xmin=0, xmax = 400)\n",
    "plt.title('Flight airtime in minutes');"
   ]
  },
  {
   "cell_type": "markdown",
   "metadata": {},
   "source": [
    "### Observation\n",
    "\n",
    "We can see that the flight-times are skewed to the right. Amount of flights with flight times for times <50 minutes are low, the peak amount of flight time reaches at about 50-70 minutes. It then drops when flight times are >70."
   ]
  },
  {
   "cell_type": "markdown",
   "metadata": {},
   "source": [
    "<p style=\"border-top: 3px solid black; padding-top: 30px;\"></p>"
   ]
  },
  {
   "cell_type": "markdown",
   "metadata": {},
   "source": [
    "### Question\n",
    "\n",
    "How is the flights distributed over the various months?"
   ]
  },
  {
   "cell_type": "markdown",
   "metadata": {},
   "source": [
    "### Visualization"
   ]
  },
  {
   "cell_type": "code",
   "execution_count": 49,
   "metadata": {},
   "outputs": [
    {
     "data": {
      "image/png": "[encoded data removed]",
      "text/plain": [
       "<matplotlib.figure.Figure at 0x7f21a120dbe0>"
      ]
     },
     "metadata": {
      "needs_background": "light"
     },
     "output_type": "display_data"
    }
   ],
   "source": [
    "flights_df.Month.value_counts().sort_index( ascending=False).plot(kind='barh', color='#39A0ED')\n",
    "plt.title('Flight distribution over months');"
   ]
  },
  {
   "cell_type": "markdown",
   "metadata": {},
   "source": [
    "### Observation\n",
    "\n",
    "We can see that the flights are relatively evenly distributed over the months , although month 7 and 8 (July and August) seem to be the most popular"
   ]
  },
  {
   "cell_type": "markdown",
   "metadata": {},
   "source": [
    "<p style=\"border-top: 3px solid black; padding-top: 30px;\"></p>"
   ]
  },
  {
   "cell_type": "markdown",
   "metadata": {},
   "source": [
    "### Question\n",
    "\n",
    "How does the distribution for departure times look?"
   ]
  },
  {
   "cell_type": "markdown",
   "metadata": {},
   "source": [
    "### Visualization"
   ]
  },
  {
   "cell_type": "code",
   "execution_count": 50,
   "metadata": {},
   "outputs": [
    {
     "data": {
      "text/plain": [
       "0   1900-01-01 12:32:00\n",
       "1   1900-01-01 19:18:00\n",
       "2   1900-01-01 22:06:00\n",
       "3   1900-01-01 12:30:00\n",
       "4   1900-01-01 08:31:00\n",
       "Name: DepTime, dtype: datetime64[ns]"
      ]
     },
     "execution_count": 50,
     "metadata": {},
     "output_type": "execute_result"
    }
   ],
   "source": [
    "flights_df.DepTime.head()"
   ]
  },
  {
   "cell_type": "code",
   "execution_count": 51,
   "metadata": {
    "scrolled": false
   },
   "outputs": [
    {
     "data": {
      "image/png": "[encoded data removed]",
      "text/plain": [
       "<matplotlib.figure.Figure at 0x7f21a120deb8>"
      ]
     },
     "metadata": {
      "needs_background": "light"
     },
     "output_type": "display_data"
    }
   ],
   "source": [
    "flights_df.DepTime_Hour.value_counts().plot(kind='bar', figsize=(12,10), color='#39A0ED')\n",
    "plt.title('Departure times for each hour of the day');"
   ]
  },
  {
   "cell_type": "markdown",
   "metadata": {},
   "source": [
    "### Observation\n",
    "\n",
    "We can see that flights generally don't deperature in the early morning [00:00 - 04:00]. We also see that a lot of flights departure later mornings from 06:00. From 20:00 flights start decreasing again until early morning."
   ]
  },
  {
   "cell_type": "markdown",
   "metadata": {},
   "source": [
    "<p style=\"border-top: 3px solid black; padding-top: 30px;\"></p>"
   ]
  },
  {
   "cell_type": "markdown",
   "metadata": {},
   "source": [
    "### Question\n",
    "\n",
    "How much delays do flights have?"
   ]
  },
  {
   "cell_type": "markdown",
   "metadata": {},
   "source": [
    "### Visualization"
   ]
  },
  {
   "cell_type": "code",
   "execution_count": 52,
   "metadata": {},
   "outputs": [
    {
     "data": {
      "image/png": "[encoded data removed]",
      "text/plain": [
       "<matplotlib.figure.Figure at 0x7f218fff7160>"
      ]
     },
     "metadata": {
      "needs_background": "light"
     },
     "output_type": "display_data"
    }
   ],
   "source": [
    "# Create bins\n",
    "bins = np.arange(0, flights_df.ArrDelay.max()+50, 50)\n",
    "plt.hist(data = flights_df, x = 'ArrDelay', bins = bins);\n",
    "plt.title('Flight delays in minutes');"
   ]
  },
  {
   "cell_type": "markdown",
   "metadata": {},
   "source": [
    "We can see there are small amounts of delays for more than 500 minutes, so lets limit it to get a better idea."
   ]
  },
  {
   "cell_type": "code",
   "execution_count": 53,
   "metadata": {},
   "outputs": [
    {
     "data": {
      "image/png": "[encoded data removed]",
      "text/plain": [
       "<matplotlib.figure.Figure at 0x7f218ff74278>"
      ]
     },
     "metadata": {
      "needs_background": "light"
     },
     "output_type": "display_data"
    }
   ],
   "source": [
    "bins = np.arange(0, flights_df.ArrDelay.max()+10, 10)\n",
    "plt.hist(data = flights_df, x = 'ArrDelay', bins = bins);\n",
    "plt.xlim(xmin=0, xmax = 300)\n",
    "plt.title('Flight delays in minutes');"
   ]
  },
  {
   "cell_type": "markdown",
   "metadata": {},
   "source": [
    "### Observation\n",
    "\n",
    "Most fights have a delay of < 10 minutes. For a flight to be late, it has to be >15 minutes, so we can observe that most flight are on time."
   ]
  },
  {
   "cell_type": "markdown",
   "metadata": {},
   "source": [
    "<p style=\"border-top: 3px solid black; padding-top: 30px;\"></p>"
   ]
  },
  {
   "cell_type": "markdown",
   "metadata": {},
   "source": [
    "### Question\n",
    "\n",
    "How many flights get diverted?"
   ]
  },
  {
   "cell_type": "markdown",
   "metadata": {},
   "source": [
    "### Visualization"
   ]
  },
  {
   "cell_type": "code",
   "execution_count": 54,
   "metadata": {},
   "outputs": [
    {
     "data": {
      "text/plain": [
       "0    7436036\n",
       "1      17179\n",
       "Name: Diverted, dtype: int64"
      ]
     },
     "execution_count": 54,
     "metadata": {},
     "output_type": "execute_result"
    }
   ],
   "source": [
    "flights_df.Diverted.value_counts()"
   ]
  },
  {
   "cell_type": "code",
   "execution_count": 55,
   "metadata": {},
   "outputs": [
    {
     "data": {
      "text/plain": [
       "Text(0.5,1.2,'Was the flight diverted?')"
      ]
     },
     "execution_count": 55,
     "metadata": {},
     "output_type": "execute_result"
    },
    {
     "data": {
      "image/png": "[encoded data removed]",
      "text/plain": [
       "<matplotlib.figure.Figure at 0x7f21a1164940>"
      ]
     },
     "metadata": {},
     "output_type": "display_data"
    }
   ],
   "source": [
    "labels = ['True', 'False']\n",
    "\n",
    "sorted_counts = flights_df.Diverted.value_counts().sort_values()\n",
    "plt.pie(sorted_counts, labels = labels, startangle = 90, counterclock = False, colors=['#39A0ED', '#f3f3f3'], autopct='%.2f%%', pctdistance=1.1, labeldistance=1.3);\n",
    "plt.axis('square');\n",
    "plt.title('Was the flight diverted?', y=1.2)"
   ]
  },
  {
   "cell_type": "markdown",
   "metadata": {},
   "source": [
    "### Observation\n",
    "\n",
    "Cleary we can see that flights barely get diverted, with only 0.23% of flights recorded being divered."
   ]
  },
  {
   "cell_type": "markdown",
   "metadata": {},
   "source": [
    "<p style=\"border-top: 3px solid black; padding-top: 30px;\"></p>"
   ]
  },
  {
   "cell_type": "markdown",
   "metadata": {},
   "source": [
    "### Discuss the distribution(s) of your variable(s) of interest. Were there any unusual points? Did you need to perform any transformations?\n",
    "\n",
    "> The distribution of the ArrDelay was skew to the right, and we saw that most flights has a delay of < 10 minutes.\n",
    "\n",
    "### Of the features you investigated, were there any unusual distributions? Did you perform any operations on the data to tidy, adjust, or change the form of the data? If so, why did you do this?\n",
    "\n",
    "> ArrDelay was very skewed to the right and most points were on the lower-end. I had to use x-lim to decrease the limit to get a better understanding of the data."
   ]
  },
  {
   "cell_type": "markdown",
   "metadata": {},
   "source": [
    "## Bivariate Exploration"
   ]
  },
  {
   "cell_type": "markdown",
   "metadata": {},
   "source": [
    "### Question\n",
    "\n",
    "Are there any correlation between two specific variables?"
   ]
  },
  {
   "cell_type": "markdown",
   "metadata": {},
   "source": [
    "### Visualization\n",
    "\n",
    "We can use a correlation heatmap to find out if there are nay specific correlations in the dataset"
   ]
  },
  {
   "cell_type": "code",
   "execution_count": 56,
   "metadata": {},
   "outputs": [
    {
     "data": {
      "image/png": "[encoded data removed]",
      "text/plain": [
       "<matplotlib.figure.Figure at 0x7f2190011ac8>"
      ]
     },
     "metadata": {
      "needs_background": "light"
     },
     "output_type": "display_data"
    }
   ],
   "source": [
    "plt.figure(figsize=(16,10))\n",
    "sb.heatmap(flights_df.corr(), square=True, annot=True, fmt='.2f', cmap='YlGnBu', center=.3);\n",
    "plt.title('Correlation between features');\n",
    "plt.show()"
   ]
  },
  {
   "cell_type": "markdown",
   "metadata": {},
   "source": [
    "### Observation"
   ]
  },
  {
   "cell_type": "markdown",
   "metadata": {},
   "source": [
    "We can see some strong correlations between:\n",
    "- CRSElapsedTime and ActualElapsedTime\n",
    "- CRSElapsedTime and AirTime\n",
    "- AirTime and ActualElapsedTime\n",
    "- Distance and (AirTime, CRSElapsedTime, ActualElapsedTime)\n",
    "- ArrDelay and DepDelay\n",
    "\n",
    "We can also see a positive correlation between\n",
    "- CarrierDelay and ArrDelay\n",
    "- CarrierDelay and DepDelay\n",
    "- LateAircraftDelay and ArrDelay\n",
    "- LateAircraftDelay and DepDelay"
   ]
  },
  {
   "cell_type": "markdown",
   "metadata": {},
   "source": [
    "<p style=\"border-top: 3px solid black; padding-top: 30px;\"></p>"
   ]
  },
  {
   "cell_type": "markdown",
   "metadata": {},
   "source": [
    "### Question\n",
    "\n",
    "How do the Departure times vary on different days of the week?"
   ]
  },
  {
   "cell_type": "markdown",
   "metadata": {},
   "source": [
    "### Visualization"
   ]
  },
  {
   "cell_type": "code",
   "execution_count": 57,
   "metadata": {},
   "outputs": [
    {
     "data": {
      "text/html": [
       "<div>\n",
       "<style scoped>\n",
       "    .dataframe tbody tr th:only-of-type {\n",
       "        vertical-align: middle;\n",
       "    }\n",
       "\n",
       "    .dataframe tbody tr th {\n",
       "        vertical-align: top;\n",
       "    }\n",
       "\n",
       "    .dataframe thead th {\n",
       "        text-align: right;\n",
       "    }\n",
       "</style>\n",
       "<table border=\"1\" class=\"dataframe\">\n",
       "  <thead>\n",
       "    <tr style=\"text-align: right;\">\n",
       "      <th></th>\n",
       "      <th>DayOfWeek</th>\n",
       "      <th>DepTime_Hour</th>\n",
       "      <th>0</th>\n",
       "    </tr>\n",
       "  </thead>\n",
       "  <tbody>\n",
       "    <tr>\n",
       "      <th>0</th>\n",
       "      <td>1</td>\n",
       "      <td>1.0</td>\n",
       "      <td>649</td>\n",
       "    </tr>\n",
       "    <tr>\n",
       "      <th>1</th>\n",
       "      <td>1</td>\n",
       "      <td>2.0</td>\n",
       "      <td>726</td>\n",
       "    </tr>\n",
       "    <tr>\n",
       "      <th>2</th>\n",
       "      <td>1</td>\n",
       "      <td>3.0</td>\n",
       "      <td>617</td>\n",
       "    </tr>\n",
       "    <tr>\n",
       "      <th>3</th>\n",
       "      <td>1</td>\n",
       "      <td>4.0</td>\n",
       "      <td>1111</td>\n",
       "    </tr>\n",
       "    <tr>\n",
       "      <th>4</th>\n",
       "      <td>1</td>\n",
       "      <td>5.0</td>\n",
       "      <td>20324</td>\n",
       "    </tr>\n",
       "  </tbody>\n",
       "</table>\n",
       "</div>"
      ],
      "text/plain": [
       "   DayOfWeek  DepTime_Hour      0\n",
       "0          1           1.0    649\n",
       "1          1           2.0    726\n",
       "2          1           3.0    617\n",
       "3          1           4.0   1111\n",
       "4          1           5.0  20324"
      ]
     },
     "execution_count": 57,
     "metadata": {},
     "output_type": "execute_result"
    }
   ],
   "source": [
    "# Group the data to get the counts of times per each day of the week\n",
    "counts = flights_df.groupby(['DayOfWeek', 'DepTime_Hour'], as_index=False).size()\n",
    "# Rest from multi to single index\n",
    "counts = counts.reset_index()\n",
    "\n",
    "counts.head()"
   ]
  },
  {
   "cell_type": "code",
   "execution_count": 58,
   "metadata": {},
   "outputs": [
    {
     "data": {
      "image/png": "[encoded data removed]",
      "text/plain": [
       "<matplotlib.figure.Figure at 0x7f218f911e48>"
      ]
     },
     "metadata": {
      "needs_background": "light"
     },
     "output_type": "display_data"
    }
   ],
   "source": [
    "fig, ax = plt.subplots(figsize=(20, 10))\n",
    "days = ['Mon', 'Tue', 'Wed', 'Thu', 'Fri', 'Sat', 'Sun']\n",
    "sb.pointplot(x= 'DepTime_Hour', y= 0, hue='DayOfWeek', data=counts,ax=ax, palette=sb.color_palette(\"hls\", 7))\n",
    "plt.title('Departure times for each day of the week');\n",
    "plt.grid()"
   ]
  },
  {
   "cell_type": "markdown",
   "metadata": {},
   "source": [
    "### Observation\n",
    "\n",
    "We can see Saturdays have less flights for all hours.\n",
    "Weekdays see more flights during 6am to 9am. Other than that the flights per hour per day seem consistent throughout the days of the week."
   ]
  },
  {
   "cell_type": "markdown",
   "metadata": {},
   "source": [
    "<p style=\"border-top: 3px solid black; padding-top: 30px;\"></p>"
   ]
  },
  {
   "cell_type": "markdown",
   "metadata": {},
   "source": [
    "### Question\n",
    "\n",
    "Which are the main cancellation codes throughout the week?"
   ]
  },
  {
   "cell_type": "markdown",
   "metadata": {},
   "source": [
    "### Visualization"
   ]
  },
  {
   "cell_type": "code",
   "execution_count": 59,
   "metadata": {},
   "outputs": [],
   "source": [
    "# Upgrade seaborn if it is outdated\n",
    "#!pip install -U seaborn\n",
    "#!pip install seaborn--upgrade"
   ]
  },
  {
   "cell_type": "code",
   "execution_count": 60,
   "metadata": {
    "scrolled": false
   },
   "outputs": [],
   "source": [
    "#fig, ax = plt.subplots(figsize=(12, 10))\n",
    "#plt.bar(x=\"DayOfWeek\", hue=\"CancellationCode\", data=flights_df,stacked=True)\n",
    "#sb.barplot(x=\"DayOfWeek\", hue=\"CancellationCode\", data=flights_df, stat=\"count\", multiple=\"stack\")\n",
    "#sb.histplot(x=\"DayOfWeek\", hue=\"CancellationCode\", data=flights_df, stat=\"count\", multiple=\"stack\")\n"
   ]
  },
  {
   "cell_type": "code",
   "execution_count": 61,
   "metadata": {
    "scrolled": false
   },
   "outputs": [
    {
     "data": {
      "image/png": "[encoded data removed]",
      "text/plain": [
       "<matplotlib.figure.Figure at 0x7f218de357f0>"
      ]
     },
     "metadata": {
      "needs_background": "light"
     },
     "output_type": "display_data"
    }
   ],
   "source": [
    "# Create the plot, set hue value to make it a clustered bar chart\n",
    "fig, ax = plt.subplots(figsize=(12, 10))\n",
    "sb.countplot(data=flights_df, x='DayOfWeek', hue='CancellationCode')\n",
    "plt.title('Cancellation code for each day of the week');"
   ]
  },
  {
   "cell_type": "markdown",
   "metadata": {},
   "source": [
    "### Observation"
   ]
  },
  {
   "cell_type": "markdown",
   "metadata": {},
   "source": [
    "We can see barely any cancellations had a cancellationcode of D (secuity). Most of the time the cancellation code appear to be A (carrier) throughout the week, except Fidays and Sundays the main code is B (weather)."
   ]
  },
  {
   "cell_type": "markdown",
   "metadata": {},
   "source": [
    "<p style=\"border-top: 3px solid black; padding-top: 30px;\"></p>"
   ]
  },
  {
   "cell_type": "markdown",
   "metadata": {},
   "source": [
    "### Question\n",
    "\n",
    "Are there specific days of the week in which cancelation are more likely to occur?"
   ]
  },
  {
   "cell_type": "markdown",
   "metadata": {},
   "source": [
    "### Visualization"
   ]
  },
  {
   "cell_type": "code",
   "execution_count": 62,
   "metadata": {},
   "outputs": [
    {
     "data": {
      "image/png": "[encoded data removed]",
      "text/plain": [
       "<matplotlib.figure.Figure at 0x7f218fb50fd0>"
      ]
     },
     "metadata": {
      "needs_background": "light"
     },
     "output_type": "display_data"
    }
   ],
   "source": [
    "# Create the plot, set hue value to make it a clustered bar chart\n",
    "sb.countplot(data=flights_df, x='DayOfWeek', hue='Cancelled')\n",
    "plt.title('Cancellations for each day of the week');"
   ]
  },
  {
   "cell_type": "markdown",
   "metadata": {},
   "source": [
    "This information does not look very useful, we can try a heatmap instead"
   ]
  },
  {
   "cell_type": "code",
   "execution_count": 63,
   "metadata": {},
   "outputs": [
    {
     "data": {
      "image/png": "[encoded data removed]",
      "text/plain": [
       "<matplotlib.figure.Figure at 0x7f21a1591080>"
      ]
     },
     "metadata": {
      "needs_background": "light"
     },
     "output_type": "display_data"
    }
   ],
   "source": [
    "# Use group_by() and size() to get the number of cancellations per day of the week\n",
    "ct_counts = flights_df.groupby(['DayOfWeek', 'Cancelled']).size()\n",
    "\n",
    "# Use Series.reset_index() to convert a series into a dataframe object\n",
    "ct_counts = ct_counts.reset_index(name='count')\n",
    "\n",
    "# Use DataFrame.pivot() to rearrange the data\n",
    "ct_counts = ct_counts.pivot(index = 'DayOfWeek', columns = 'Cancelled', values = 'count')\n",
    "\n",
    "plt.title('Flights cancelled for each day of the week');\n",
    "\n",
    "sb.heatmap(ct_counts);"
   ]
  },
  {
   "cell_type": "markdown",
   "metadata": {},
   "source": [
    "### Observation\n",
    "\n",
    "We can see Saturdays have the least amount of non-cancellations, while Mondays have the most. This is probably because Monday has a lot more flights than Mondays.\n",
    "\n",
    "Our next question will show a more accurate result since we will use ratios"
   ]
  },
  {
   "cell_type": "markdown",
   "metadata": {},
   "source": [
    "<p style=\"border-top: 3px solid black; padding-top: 30px;\"></p>"
   ]
  },
  {
   "cell_type": "markdown",
   "metadata": {},
   "source": [
    "### Question\n",
    "\n",
    "How do the ratios of cancellation differ between the various days?\n",
    "\n",
    "Here we will need to make use of ratios, instead of counts."
   ]
  },
  {
   "cell_type": "code",
   "execution_count": 64,
   "metadata": {},
   "outputs": [
    {
     "data": {
      "text/html": [
       "<div>\n",
       "<style scoped>\n",
       "    .dataframe tbody tr th:only-of-type {\n",
       "        vertical-align: middle;\n",
       "    }\n",
       "\n",
       "    .dataframe tbody tr th {\n",
       "        vertical-align: top;\n",
       "    }\n",
       "\n",
       "    .dataframe thead th {\n",
       "        text-align: right;\n",
       "    }\n",
       "</style>\n",
       "<table border=\"1\" class=\"dataframe\">\n",
       "  <thead>\n",
       "    <tr style=\"text-align: right;\">\n",
       "      <th></th>\n",
       "      <th>DayOfWeek</th>\n",
       "      <th>Cancelled</th>\n",
       "      <th>count</th>\n",
       "    </tr>\n",
       "  </thead>\n",
       "  <tbody>\n",
       "    <tr>\n",
       "      <th>0</th>\n",
       "      <td>1</td>\n",
       "      <td>0</td>\n",
       "      <td>1090187</td>\n",
       "    </tr>\n",
       "    <tr>\n",
       "      <th>1</th>\n",
       "      <td>1</td>\n",
       "      <td>1</td>\n",
       "      <td>22287</td>\n",
       "    </tr>\n",
       "    <tr>\n",
       "      <th>2</th>\n",
       "      <td>2</td>\n",
       "      <td>0</td>\n",
       "      <td>1052983</td>\n",
       "    </tr>\n",
       "    <tr>\n",
       "      <th>3</th>\n",
       "      <td>2</td>\n",
       "      <td>1</td>\n",
       "      <td>25579</td>\n",
       "    </tr>\n",
       "    <tr>\n",
       "      <th>4</th>\n",
       "      <td>3</td>\n",
       "      <td>0</td>\n",
       "      <td>1062432</td>\n",
       "    </tr>\n",
       "    <tr>\n",
       "      <th>5</th>\n",
       "      <td>3</td>\n",
       "      <td>1</td>\n",
       "      <td>26426</td>\n",
       "    </tr>\n",
       "    <tr>\n",
       "      <th>6</th>\n",
       "      <td>4</td>\n",
       "      <td>0</td>\n",
       "      <td>1072592</td>\n",
       "    </tr>\n",
       "    <tr>\n",
       "      <th>7</th>\n",
       "      <td>4</td>\n",
       "      <td>1</td>\n",
       "      <td>25146</td>\n",
       "    </tr>\n",
       "    <tr>\n",
       "      <th>8</th>\n",
       "      <td>5</td>\n",
       "      <td>0</td>\n",
       "      <td>1077472</td>\n",
       "    </tr>\n",
       "    <tr>\n",
       "      <th>9</th>\n",
       "      <td>5</td>\n",
       "      <td>1</td>\n",
       "      <td>24217</td>\n",
       "    </tr>\n",
       "    <tr>\n",
       "      <th>10</th>\n",
       "      <td>6</td>\n",
       "      <td>0</td>\n",
       "      <td>917348</td>\n",
       "    </tr>\n",
       "    <tr>\n",
       "      <th>11</th>\n",
       "      <td>6</td>\n",
       "      <td>1</td>\n",
       "      <td>15990</td>\n",
       "    </tr>\n",
       "    <tr>\n",
       "      <th>12</th>\n",
       "      <td>7</td>\n",
       "      <td>0</td>\n",
       "      <td>1019453</td>\n",
       "    </tr>\n",
       "    <tr>\n",
       "      <th>13</th>\n",
       "      <td>7</td>\n",
       "      <td>1</td>\n",
       "      <td>21103</td>\n",
       "    </tr>\n",
       "  </tbody>\n",
       "</table>\n",
       "</div>"
      ],
      "text/plain": [
       "    DayOfWeek  Cancelled    count\n",
       "0           1          0  1090187\n",
       "1           1          1    22287\n",
       "2           2          0  1052983\n",
       "3           2          1    25579\n",
       "4           3          0  1062432\n",
       "5           3          1    26426\n",
       "6           4          0  1072592\n",
       "7           4          1    25146\n",
       "8           5          0  1077472\n",
       "9           5          1    24217\n",
       "10          6          0   917348\n",
       "11          6          1    15990\n",
       "12          7          0  1019453\n",
       "13          7          1    21103"
      ]
     },
     "execution_count": 64,
     "metadata": {},
     "output_type": "execute_result"
    }
   ],
   "source": [
    "count = flights_df.groupby(['DayOfWeek', 'Cancelled']).size()\n",
    "count_counts = count.reset_index(name='count')\n",
    "count_counts"
   ]
  },
  {
   "cell_type": "code",
   "execution_count": 65,
   "metadata": {},
   "outputs": [
    {
     "data": {
      "text/plain": [
       "1090187"
      ]
     },
     "execution_count": 65,
     "metadata": {},
     "output_type": "execute_result"
    }
   ],
   "source": [
    "count_counts.values[0][2]"
   ]
  },
  {
   "cell_type": "code",
   "execution_count": 66,
   "metadata": {},
   "outputs": [
    {
     "name": "stdout",
     "output_type": "stream",
     "text": [
      "0.0200337266309\n",
      "0.0237158364563\n",
      "0.0242694639705\n",
      "0.0229071053384\n",
      "0.0219817026402\n",
      "0.0171320571969\n",
      "0.0202805038845\n",
      "[0.02003372663091452, 0.023715836456318692, 0.02426946397050855, 0.022907105338432304, 0.02198170264021879, 0.017132057196856874, 0.02028050388446177]\n"
     ]
    }
   ],
   "source": [
    "i = 0\n",
    "cancelled = []\n",
    "while i < 14: # loop through the rows - each day has a cancelled 0 and 1, so 2 * 7 = 14\n",
    "    # use values[i][2] to access the value of the count for each row\n",
    "    value =  count_counts.values[i+1][2] / (count_counts.values[i][2] + count_counts.values[i+1][2])\n",
    "    print(value)\n",
    "    cancelled.append(value)\n",
    "    i = i+2\n",
    "print(cancelled)"
   ]
  },
  {
   "cell_type": "code",
   "execution_count": 67,
   "metadata": {},
   "outputs": [
    {
     "data": {
      "text/html": [
       "<div>\n",
       "<style scoped>\n",
       "    .dataframe tbody tr th:only-of-type {\n",
       "        vertical-align: middle;\n",
       "    }\n",
       "\n",
       "    .dataframe tbody tr th {\n",
       "        vertical-align: top;\n",
       "    }\n",
       "\n",
       "    .dataframe thead th {\n",
       "        text-align: right;\n",
       "    }\n",
       "</style>\n",
       "<table border=\"1\" class=\"dataframe\">\n",
       "  <thead>\n",
       "    <tr style=\"text-align: right;\">\n",
       "      <th></th>\n",
       "      <th>CancelledRatio</th>\n",
       "      <th>DayOfWeek</th>\n",
       "    </tr>\n",
       "  </thead>\n",
       "  <tbody>\n",
       "    <tr>\n",
       "      <th>0</th>\n",
       "      <td>0.020034</td>\n",
       "      <td>0</td>\n",
       "    </tr>\n",
       "    <tr>\n",
       "      <th>1</th>\n",
       "      <td>0.023716</td>\n",
       "      <td>1</td>\n",
       "    </tr>\n",
       "    <tr>\n",
       "      <th>2</th>\n",
       "      <td>0.024269</td>\n",
       "      <td>2</td>\n",
       "    </tr>\n",
       "    <tr>\n",
       "      <th>3</th>\n",
       "      <td>0.022907</td>\n",
       "      <td>3</td>\n",
       "    </tr>\n",
       "    <tr>\n",
       "      <th>4</th>\n",
       "      <td>0.021982</td>\n",
       "      <td>4</td>\n",
       "    </tr>\n",
       "    <tr>\n",
       "      <th>5</th>\n",
       "      <td>0.017132</td>\n",
       "      <td>5</td>\n",
       "    </tr>\n",
       "    <tr>\n",
       "      <th>6</th>\n",
       "      <td>0.020281</td>\n",
       "      <td>6</td>\n",
       "    </tr>\n",
       "  </tbody>\n",
       "</table>\n",
       "</div>"
      ],
      "text/plain": [
       "   CancelledRatio  DayOfWeek\n",
       "0        0.020034          0\n",
       "1        0.023716          1\n",
       "2        0.024269          2\n",
       "3        0.022907          3\n",
       "4        0.021982          4\n",
       "5        0.017132          5\n",
       "6        0.020281          6"
      ]
     },
     "execution_count": 67,
     "metadata": {},
     "output_type": "execute_result"
    }
   ],
   "source": [
    "ratios = []\n",
    "for index, cancel in enumerate(cancelled):\n",
    "    ratios.append(\n",
    "        {\n",
    "            'DayOfWeek': index,\n",
    "            'CancelledRatio': cancel,\n",
    "        }\n",
    "    )\n",
    "\n",
    "cancellation_per_day_df = pd.DataFrame(ratios)\n",
    "cancellation_per_day_df"
   ]
  },
  {
   "cell_type": "markdown",
   "metadata": {},
   "source": [
    "We now have a dataframe with the ratios of the cancellations for each day of the week. Ratios are a better indicator to make predictions, since the totals of other days won't affect this."
   ]
  },
  {
   "cell_type": "markdown",
   "metadata": {},
   "source": [
    "### Visualization"
   ]
  },
  {
   "cell_type": "code",
   "execution_count": 68,
   "metadata": {},
   "outputs": [
    {
     "data": {
      "image/png": "[encoded data removed]",
      "text/plain": [
       "<matplotlib.figure.Figure at 0x7f218dd1cef0>"
      ]
     },
     "metadata": {
      "needs_background": "light"
     },
     "output_type": "display_data"
    }
   ],
   "source": [
    "sb.barplot(x='DayOfWeek', y='CancelledRatio', data=cancellation_per_day_df, color='#39A0ED')\n",
    "plt.title('Cancellation ratio for each day of the week');"
   ]
  },
  {
   "cell_type": "markdown",
   "metadata": {},
   "source": [
    "### Observation\n",
    "\n",
    "We can now see that the cancellation ratios look consistent throughout the days, although it appears that Fridays show the lowers cancellation ratios"
   ]
  },
  {
   "cell_type": "markdown",
   "metadata": {},
   "source": [
    "<p style=\"border-top: 3px solid black; padding-top: 30px;\"></p>"
   ]
  },
  {
   "cell_type": "markdown",
   "metadata": {},
   "source": [
    "### Question\n",
    "\n",
    "Are there certain destination cities that are home to more cancellations?"
   ]
  },
  {
   "cell_type": "markdown",
   "metadata": {},
   "source": [
    "### Visualization"
   ]
  },
  {
   "cell_type": "code",
   "execution_count": 69,
   "metadata": {},
   "outputs": [
    {
     "data": {
      "image/png": "[encoded data removed]",
      "text/plain": [
       "<matplotlib.figure.Figure at 0x7f218dc6b2e8>"
      ]
     },
     "metadata": {
      "needs_background": "light"
     },
     "output_type": "display_data"
    }
   ],
   "source": [
    "cancelled_df = flights_df[flights_df.Cancelled == 1]\n",
    "cancelled_df = cancelled_df.groupby('Dest').size().reset_index(name = \"Cancelled_Count\").sort_values(by=\"Cancelled_Count\", ascending=False)\n",
    "cancelled_df = cancelled_df.head(20)  # get the top 20\n",
    "sb.barplot(data=cancelled_df, x='Dest', y=\"Cancelled_Count\", color='#39A0ED')\n",
    "plt.xticks(rotation=90)\n",
    "plt.title('20 destinations with the most cancellations');"
   ]
  },
  {
   "cell_type": "markdown",
   "metadata": {},
   "source": [
    "### Observation"
   ]
  },
  {
   "cell_type": "markdown",
   "metadata": {},
   "source": [
    "Clearly we can see that ORD has a lot more cancellation than any of the other Destination airports."
   ]
  },
  {
   "cell_type": "markdown",
   "metadata": {},
   "source": [
    "<p style=\"border-top: 3px solid black; padding-top: 30px;\"></p>"
   ]
  },
  {
   "cell_type": "markdown",
   "metadata": {},
   "source": [
    "### Question\n",
    "\n",
    "Are some months more prone to flight delays than others?"
   ]
  },
  {
   "cell_type": "markdown",
   "metadata": {},
   "source": [
    "### Visualization"
   ]
  },
  {
   "cell_type": "code",
   "execution_count": 70,
   "metadata": {},
   "outputs": [
    {
     "data": {
      "image/png": "[encoded data removed]",
      "text/plain": [
       "<matplotlib.figure.Figure at 0x7f218db9e128>"
      ]
     },
     "metadata": {
      "needs_background": "light"
     },
     "output_type": "display_data"
    }
   ],
   "source": [
    "np.random.seed(2022)\n",
    "sample = np.random.choice(flights_df.shape[0], 100000, replace=False, )\n",
    "flights_subset = flights_df.loc[sample]\n",
    "\n",
    "sb.regplot(data=flights_subset, y='ArrDelay', x='Month')\n",
    "plt.title('ArrDelay vs Months');"
   ]
  },
  {
   "cell_type": "markdown",
   "metadata": {},
   "source": [
    "### Observation\n",
    "\n",
    "We can see that there is no real relationship between month and arrival delays"
   ]
  },
  {
   "cell_type": "markdown",
   "metadata": {},
   "source": [
    "<p style=\"border-top: 3px solid black; padding-top: 30px;\"></p>"
   ]
  },
  {
   "cell_type": "markdown",
   "metadata": {},
   "source": [
    "### Talk about some of the relationships you observed in this part of the investigation. How did the feature(s) of interest vary with other features in the dataset?\n",
    "\n",
    "> Departure times throughout the week look consistent. We can see Saturdays have less flights for all hours.\n",
    "Weekdays see more flights during 6am to 9am.\n",
    "\n",
    "### Did you observe any interesting relationships between the other features (not the main feature(s) of interest)?\n",
    "\n",
    "> We saw that carrier and weather cancellation codes are the main cancellation codes for the flights. Distance and Airtime also had a strong positive correlation which makes sense since it take more time to cover more distance."
   ]
  },
  {
   "cell_type": "markdown",
   "metadata": {},
   "source": [
    "## Multivariate Exploration\n"
   ]
  },
  {
   "cell_type": "markdown",
   "metadata": {},
   "source": [
    "### Question\n",
    "\n",
    "How do the Departure Delays vary per month on different days of the week?"
   ]
  },
  {
   "cell_type": "markdown",
   "metadata": {},
   "source": [
    "### Visualization"
   ]
  },
  {
   "cell_type": "code",
   "execution_count": 71,
   "metadata": {},
   "outputs": [
    {
     "data": {
      "image/png": "[encoded data removed]",
      "text/plain": [
       "<matplotlib.figure.Figure at 0x7f218daa9f98>"
      ]
     },
     "metadata": {
      "needs_background": "light"
     },
     "output_type": "display_data"
    }
   ],
   "source": [
    "plt.figure(figsize=(12, 10))\n",
    "sb.pointplot(data=flights_df, x='Month', y='DepDelay', hue='DayOfWeek', linestyles='', markers='o', dodge=0.3)\n",
    "plt.title('Departure delays per month for each day of the week');\n",
    "plt.show()"
   ]
  },
  {
   "cell_type": "markdown",
   "metadata": {},
   "source": [
    "### Observation"
   ]
  },
  {
   "cell_type": "markdown",
   "metadata": {},
   "source": [
    "We can see that Satudays have the lowest amount of Departure Delays in general over the months, although Wednesdays have the least amount of DepartureDelays in January and in December the dalys are a lot higher on Saturdays.\n",
    "\n",
    "We can also see that December has the highest amount of Departure Delays, ecspeiclly on Fridays, Saturdays and Sundays\n",
    "May, September, October and November has the least amount of Departure delays.\n",
    "\n",
    "June, July and December appear to be the months with the most departure delays accross the days."
   ]
  },
  {
   "cell_type": "markdown",
   "metadata": {},
   "source": [
    "### Talk about some of the relationships you observed in this part of the investigation. Were there features that strengthened each other in terms of looking at your feature(s) of interest?\n",
    "\n",
    "> It appeared that Departure time does differ on different days of the weeks for different months.\n",
    "\n",
    "### Were there any interesting or surprising interactions between features?\n",
    "\n",
    "> It is interesting that the departure times do indeed vary for different days of the weeks for the different months."
   ]
  },
  {
   "cell_type": "markdown",
   "metadata": {},
   "source": [
    "## Conclusions\n",
    "\n"
   ]
  },
  {
   "cell_type": "markdown",
   "metadata": {},
   "source": [
    "We saw that there do exist various relationships throughout the dataset, and there is still plenty to explore, like relationships between the different variables for different years."
   ]
  },
  {
   "cell_type": "code",
   "execution_count": null,
   "metadata": {},
   "outputs": [],
   "source": []
  }
 ],
 "metadata": {
  "kernelspec": {
   "display_name": "Python 3",
   "language": "python",
   "name": "python3"
  },
  "language_info": {
   "codemirror_mode": {
    "name": "ipython",
    "version": 3
   },
   "file_extension": ".py",
   "mimetype": "text/x-python",
   "name": "python",
   "nbconvert_exporter": "python",
   "pygments_lexer": "ipython3",
   "version": "3.6.3"
  }
 },
 "nbformat": 4,
 "nbformat_minor": 2
}
